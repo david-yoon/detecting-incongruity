{
 "cells": [
  {
   "cell_type": "code",
   "execution_count": 46,
   "metadata": {
    "collapsed": true
   },
   "outputs": [],
   "source": []
  },
  {
   "cell_type": "code",
   "execution_count": null,
   "metadata": {
    "collapsed": true
   },
   "outputs": [],
   "source": []
  },
  {
   "cell_type": "markdown",
   "metadata": {},
   "source": [
    "## stats"
   ]
  },
  {
   "cell_type": "code",
   "execution_count": 29,
   "metadata": {
    "collapsed": true
   },
   "outputs": [],
   "source": [
    "import csv\n",
    "import sys\n",
    "import numpy as np"
   ]
  },
  {
   "cell_type": "code",
   "execution_count": 30,
   "metadata": {
    "collapsed": true
   },
   "outputs": [],
   "source": [
    "def print_info(data):\n",
    "    print(\"mean\", np.average(data))\n",
    "    print(\"std\", np.std(data))\n",
    "    print(\"max\", np.max(data))\n",
    "    print(\"95.xx coverage\", np.average(data) +  2*np.std(data) )\n",
    "    print(\"99.73 coverage\", np.average(data) +  3*np.std(data) )\n",
    "    print(\"99.95 coverage\", np.average(data) +  3.5*np.std(data) )\n",
    "    print(\"99.99 coverage\", np.average(data) +  4*np.std(data) )"
   ]
  },
  {
   "cell_type": "code",
   "execution_count": 31,
   "metadata": {
    "collapsed": false
   },
   "outputs": [
    {
     "data": {
      "text/plain": [
       "(1697222, 49)"
      ]
     },
     "execution_count": 31,
     "metadata": {},
     "output_type": "execute_result"
    }
   ],
   "source": [
    "data = np.load('../data/target_aaai-19_whole/train/train_title.npy')\n",
    "np.shape(data)"
   ]
  },
  {
   "cell_type": "code",
   "execution_count": 32,
   "metadata": {
    "collapsed": false
   },
   "outputs": [
    {
     "data": {
      "text/plain": [
       "(1697222, 49)"
      ]
     },
     "execution_count": 32,
     "metadata": {},
     "output_type": "execute_result"
    }
   ],
   "source": [
    "head_len = []\n",
    "for tt in data: \n",
    "    k = np.where(tt == 0)[0]\n",
    "    if len(k) == 0:\n",
    "        head_len.append(49)\n",
    "    else:\n",
    "        head_len.append(k[0])\n",
    "np.shape(data)"
   ]
  },
  {
   "cell_type": "code",
   "execution_count": 36,
   "metadata": {
    "collapsed": false
   },
   "outputs": [
    {
     "name": "stdout",
     "output_type": "stream",
     "text": [
      "head_len\n",
      "('mean', 13.705420386961753)\n",
      "('std', 3.5684162610356593)\n",
      "('max', 49)\n",
      "('95.xx coverage', 20.84225290903307)\n",
      "('99.73 coverage', 24.41066917006873)\n",
      "('99.95 coverage', 26.194877300586562)\n",
      "('99.99 coverage', 27.97908543110439)\n"
     ]
    }
   ],
   "source": [
    "print('head_len')\n",
    "print_info(head_len)"
   ]
  },
  {
   "cell_type": "code",
   "execution_count": null,
   "metadata": {
    "collapsed": true
   },
   "outputs": [],
   "source": []
  },
  {
   "cell_type": "code",
   "execution_count": 37,
   "metadata": {
    "collapsed": false
   },
   "outputs": [
    {
     "data": {
      "text/plain": [
       "(1697222, 1200)"
      ]
     },
     "execution_count": 37,
     "metadata": {},
     "output_type": "execute_result"
    }
   ],
   "source": [
    "data_body = np.load('../data/target_aaai-19_whole/train/train_body.npy')\n",
    "np.shape(data_body)"
   ]
  },
  {
   "cell_type": "code",
   "execution_count": 38,
   "metadata": {
    "collapsed": true
   },
   "outputs": [],
   "source": [
    "body_len = []\n",
    "for tt in data_body: \n",
    "    k = np.where(tt == 0)[0]\n",
    "    if len(k) == 0:\n",
    "        body_len.append(1200)\n",
    "    else:\n",
    "        body_len.append(k[0])"
   ]
  },
  {
   "cell_type": "code",
   "execution_count": 39,
   "metadata": {
    "collapsed": false
   },
   "outputs": [
    {
     "name": "stdout",
     "output_type": "stream",
     "text": [
      "body_len\n",
      "('mean', 499.8136749346874)\n",
      "('std', 282.3498055280352)\n",
      "('max', 1200)\n",
      "('95.xx coverage', 1064.5132859907578)\n",
      "('99.73 coverage', 1346.863091518793)\n",
      "('99.95 coverage', 1488.0379942828106)\n",
      "('99.99 coverage', 1629.2128970468282)\n"
     ]
    }
   ],
   "source": [
    "print('body_len')\n",
    "print_info(body_len)"
   ]
  },
  {
   "cell_type": "code",
   "execution_count": null,
   "metadata": {
    "collapsed": false
   },
   "outputs": [],
   "source": []
  },
  {
   "cell_type": "code",
   "execution_count": 40,
   "metadata": {
    "collapsed": false
   },
   "outputs": [
    {
     "data": {
      "text/plain": [
       "7"
      ]
     },
     "execution_count": 40,
     "metadata": {},
     "output_type": "execute_result"
    }
   ],
   "source": [
    "import pickle\n",
    "v = pickle.load(open('../data/target_aaai-19_whole/dic_mincutN.pkl'))\n",
    "v['<EOP>']"
   ]
  },
  {
   "cell_type": "code",
   "execution_count": 41,
   "metadata": {
    "collapsed": false
   },
   "outputs": [
    {
     "data": {
      "text/plain": [
       "' 7 '"
      ]
     },
     "execution_count": 41,
     "metadata": {},
     "output_type": "execute_result"
    }
   ],
   "source": [
    "delimiter = ' ' +  str(v['<EOP>']) + ' '\n",
    "delimiter"
   ]
  },
  {
   "cell_type": "code",
   "execution_count": 26,
   "metadata": {
    "collapsed": false
   },
   "outputs": [
    {
     "name": "stderr",
     "output_type": "stream",
     "text": [
      "100%|██████████| 100000/100000 [01:02<00:00, 1591.74it/s]\n"
     ]
    }
   ],
   "source": [
    "con_len = []\n",
    "body_con = []\n",
    "\n",
    "for tt in tqdm.tqdm(data_body):\n",
    "\n",
    "    turn = [x.strip() for x in (' '.join(str(e) for e in tt)).split(delimiter)[:-1] ]\n",
    "    turn = [ x for x in turn if len(x) >1]\n",
    "    con_len.append(len(turn))\n",
    "\n",
    "    for x in turn:\n",
    "        body_con.append( len(x.split(' ')) )"
   ]
  },
  {
   "cell_type": "code",
   "execution_count": null,
   "metadata": {
    "collapsed": false
   },
   "outputs": [],
   "source": []
  },
  {
   "cell_type": "code",
   "execution_count": 27,
   "metadata": {
    "collapsed": false
   },
   "outputs": [
    {
     "name": "stdout",
     "output_type": "stream",
     "text": [
      "con_len\n",
      "('mean', 9.29457)\n",
      "('std', 6.692574879304677)\n",
      "('max', 104)\n",
      "('95.xx coverage', 22.67971975860935)\n",
      "('99.73 coverage', 29.37229463791403)\n",
      "('99.95 coverage', 32.71858207756637)\n",
      "('99.99 coverage', 36.06486951721871)\n"
     ]
    }
   ],
   "source": [
    "print('con_len')\n",
    "print_info(con_len)"
   ]
  },
  {
   "cell_type": "code",
   "execution_count": 28,
   "metadata": {
    "collapsed": false
   },
   "outputs": [
    {
     "name": "stdout",
     "output_type": "stream",
     "text": [
      "body_con\n",
      "('mean', 79.09819604349636)\n",
      "('std', 108.66948290317623)\n",
      "('max', 1198)\n",
      "('95.xx coverage', 296.43716184984885)\n",
      "('99.73 coverage', 405.1066447530251)\n",
      "('99.95 coverage', 459.4413862046132)\n",
      "('99.99 coverage', 513.7761276562013)\n"
     ]
    }
   ],
   "source": [
    "print('body_con')\n",
    "print_info(body_con)"
   ]
  },
  {
   "cell_type": "code",
   "execution_count": null,
   "metadata": {
    "collapsed": true
   },
   "outputs": [],
   "source": []
  }
 ],
 "metadata": {
  "anaconda-cloud": {},
  "kernelspec": {
   "display_name": "Python [conda env:tf114_p27]",
   "language": "python",
   "name": "conda-env-tf114_p27-py"
  },
  "language_info": {
   "codemirror_mode": {
    "name": "ipython",
    "version": 2
   },
   "file_extension": ".py",
   "mimetype": "text/x-python",
   "name": "python",
   "nbconvert_exporter": "python",
   "pygments_lexer": "ipython2",
   "version": "2.7.16"
  }
 },
 "nbformat": 4,
 "nbformat_minor": 2
}
