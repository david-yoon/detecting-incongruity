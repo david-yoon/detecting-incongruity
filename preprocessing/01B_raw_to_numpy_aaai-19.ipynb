{
 "cells": [
  {
   "cell_type": "code",
   "execution_count": 46,
   "metadata": {
    "collapsed": true
   },
   "outputs": [],
   "source": []
  },
  {
   "cell_type": "code",
   "execution_count": null,
   "metadata": {
    "collapsed": true
   },
   "outputs": [],
   "source": []
  },
  {
   "cell_type": "markdown",
   "metadata": {},
   "source": [
    "## stats"
   ]
  },
  {
   "cell_type": "code",
   "execution_count": 37,
   "metadata": {
    "collapsed": true
   },
   "outputs": [],
   "source": [
    "IS_WHOLE = False"
   ]
  },
  {
   "cell_type": "code",
   "execution_count": 16,
   "metadata": {
    "collapsed": true
   },
   "outputs": [],
   "source": [
    "import csv\n",
    "import sys\n",
    "import numpy as np\n",
    "from tqdm import tqdm"
   ]
  },
  {
   "cell_type": "code",
   "execution_count": 2,
   "metadata": {
    "collapsed": true
   },
   "outputs": [],
   "source": [
    "def print_info(data):\n",
    "    print(\"mean\", np.average(data))\n",
    "    print(\"std\", np.std(data))\n",
    "    print(\"max\", np.max(data))\n",
    "    print(\"95.xx coverage\", np.average(data) +  2*np.std(data) )\n",
    "    print(\"99.73 coverage\", np.average(data) +  3*np.std(data) )\n",
    "    print(\"99.95 coverage\", np.average(data) +  3.5*np.std(data) )\n",
    "    print(\"99.99 coverage\", np.average(data) +  4*np.std(data) )"
   ]
  },
  {
   "cell_type": "code",
   "execution_count": 6,
   "metadata": {
    "collapsed": false
   },
   "outputs": [
    {
     "data": {
      "text/plain": [
       "(4081788, 49)"
      ]
     },
     "execution_count": 6,
     "metadata": {},
     "output_type": "execute_result"
    }
   ],
   "source": [
    "if IS_WHOLE:\n",
    "    print 'whole'\n",
    "    data = np.load('../data/target_aaai-19_whole/train/train_title.npy')\n",
    "    np.shape(data)\n",
    "else:\n",
    "    print 'para'\n",
    "    data = np.load('../data/target_aaai-19_para/train/train_title.npy')\n",
    "    np.shape(data)"
   ]
  },
  {
   "cell_type": "code",
   "execution_count": 7,
   "metadata": {
    "collapsed": false
   },
   "outputs": [
    {
     "data": {
      "text/plain": [
       "(4081788, 49)"
      ]
     },
     "execution_count": 7,
     "metadata": {},
     "output_type": "execute_result"
    }
   ],
   "source": [
    "head_len = []\n",
    "for tt in data: \n",
    "    k = np.where(tt == 0)[0]\n",
    "    if len(k) == 0:\n",
    "        head_len.append(49)\n",
    "    else:\n",
    "        head_len.append(k[0])\n",
    "np.shape(data)"
   ]
  },
  {
   "cell_type": "code",
   "execution_count": 36,
   "metadata": {
    "collapsed": false
   },
   "outputs": [
    {
     "name": "stdout",
     "output_type": "stream",
     "text": [
      "head_len\n",
      "('mean', 13.705420386961753)\n",
      "('std', 3.5684162610356593)\n",
      "('max', 49)\n",
      "('95.xx coverage', 20.84225290903307)\n",
      "('99.73 coverage', 24.41066917006873)\n",
      "('99.95 coverage', 26.194877300586562)\n",
      "('99.99 coverage', 27.97908543110439)\n"
     ]
    }
   ],
   "source": [
    "print('head_len')\n",
    "print_info(head_len)"
   ]
  },
  {
   "cell_type": "code",
   "execution_count": null,
   "metadata": {
    "collapsed": true
   },
   "outputs": [],
   "source": []
  },
  {
   "cell_type": "code",
   "execution_count": 8,
   "metadata": {
    "collapsed": false
   },
   "outputs": [
    {
     "data": {
      "text/plain": [
       "(4081788, 170)"
      ]
     },
     "execution_count": 8,
     "metadata": {},
     "output_type": "execute_result"
    }
   ],
   "source": [
    "if IS_WHOLE:\n",
    "    print 'whole'\n",
    "    data_body = np.load('../data/target_aaai-19_whole/train/train_body.npy')\n",
    "    np.shape(data_body)\n",
    "else:\n",
    "    print 'para'\n",
    "    data_body = np.load('../data/target_aaai-19_para/train/train_body.npy')\n",
    "    np.shape(data_body)"
   ]
  },
  {
   "cell_type": "code",
   "execution_count": 11,
   "metadata": {
    "collapsed": true
   },
   "outputs": [],
   "source": [
    "body_len = []\n",
    "for tt in data_body: \n",
    "    k = np.where(tt == 0)[0]\n",
    "    if len(k) == 0:\n",
    "#         body_len.append(1200)\n",
    "        body_len.append(170)\n",
    "    else:\n",
    "        body_len.append(k[0])"
   ]
  },
  {
   "cell_type": "code",
   "execution_count": 12,
   "metadata": {
    "collapsed": false
   },
   "outputs": [
    {
     "name": "stdout",
     "output_type": "stream",
     "text": [
      "body_len\n",
      "('mean', 57.037956895360566)\n",
      "('std', 37.3370590266398)\n",
      "('max', 170)\n",
      "('95.xx coverage', 131.71207494864018)\n",
      "('99.73 coverage', 169.04913397527997)\n",
      "('99.95 coverage', 187.71766348859987)\n",
      "('99.99 coverage', 206.38619300191976)\n"
     ]
    }
   ],
   "source": [
    "print('body_len')\n",
    "print_info(body_len)"
   ]
  },
  {
   "cell_type": "code",
   "execution_count": null,
   "metadata": {
    "collapsed": false
   },
   "outputs": [],
   "source": []
  },
  {
   "cell_type": "code",
   "execution_count": 27,
   "metadata": {
    "collapsed": false
   },
   "outputs": [
    {
     "data": {
      "text/plain": [
       "7"
      ]
     },
     "execution_count": 27,
     "metadata": {},
     "output_type": "execute_result"
    }
   ],
   "source": [
    "import pickle\n",
    "v = pickle.load(open('../data/target_aaai-19_para/dic_mincutN.pkl'))\n",
    "v['<EOP>']"
   ]
  },
  {
   "cell_type": "code",
   "execution_count": 39,
   "metadata": {
    "collapsed": false
   },
   "outputs": [
    {
     "name": "stdout",
     "output_type": "stream",
     "text": [
      "para\n"
     ]
    },
    {
     "data": {
      "text/plain": [
       "' 3 '"
      ]
     },
     "execution_count": 39,
     "metadata": {},
     "output_type": "execute_result"
    }
   ],
   "source": [
    "if IS_WHOLE:\n",
    "    print 'whole'\n",
    "    delimiter = ' ' +  str(v['<EOP>']) + ' '\n",
    "else:\n",
    "    print 'para'\n",
    "    delimiter = ' ' +  str(v['<EOS>']) + ' '\n",
    "delimiter"
   ]
  },
  {
   "cell_type": "code",
   "execution_count": null,
   "metadata": {
    "collapsed": true
   },
   "outputs": [],
   "source": []
  },
  {
   "cell_type": "code",
   "execution_count": 34,
   "metadata": {
    "collapsed": false
   },
   "outputs": [
    {
     "name": "stderr",
     "output_type": "stream",
     "text": [
      "100%|██████████| 4081788/4081788 [05:45<00:00, 11824.82it/s]\n"
     ]
    }
   ],
   "source": [
    "con_len = []\n",
    "body_con = []\n",
    "\n",
    "for tt in tqdm(data_body):\n",
    "\n",
    "    turn = [x.strip() for x in (' '.join(str(e) for e in tt)).split(delimiter)[:-1] ]\n",
    "    turn = [ x for x in turn if len(x) >1]\n",
    "    con_len.append(len(turn))\n",
    "\n",
    "    for x in turn:\n",
    "        body_con.append( len(x.split(' ')) )"
   ]
  },
  {
   "cell_type": "code",
   "execution_count": null,
   "metadata": {
    "collapsed": false
   },
   "outputs": [],
   "source": []
  },
  {
   "cell_type": "code",
   "execution_count": 35,
   "metadata": {
    "collapsed": false
   },
   "outputs": [
    {
     "name": "stdout",
     "output_type": "stream",
     "text": [
      "con_len\n",
      "('mean', 1.8598420594112188)\n",
      "('std', 1.369164402593429)\n",
      "('max', 28)\n",
      "('95.xx coverage', 4.598170864598077)\n",
      "('99.73 coverage', 5.967335267191506)\n",
      "('99.95 coverage', 6.651917468488221)\n",
      "('99.99 coverage', 7.336499669784935)\n"
     ]
    }
   ],
   "source": [
    "print('con_len')\n",
    "print_info(con_len)"
   ]
  },
  {
   "cell_type": "code",
   "execution_count": 38,
   "metadata": {
    "collapsed": false
   },
   "outputs": [
    {
     "name": "stdout",
     "output_type": "stream",
     "text": [
      "body_con\n",
      "('mean', 29.17156362506868)\n",
      "('std', 15.126168494454824)\n",
      "('max', 168)\n",
      "('95.xx coverage', 59.423900613978326)\n",
      "('99.73 coverage', 74.55006910843315)\n",
      "('99.95 coverage', 82.11315335566056)\n",
      "('99.99 coverage', 89.67623760288797)\n"
     ]
    }
   ],
   "source": [
    "print('body_con')\n",
    "print_info(body_con)"
   ]
  },
  {
   "cell_type": "code",
   "execution_count": null,
   "metadata": {
    "collapsed": true
   },
   "outputs": [],
   "source": []
  },
  {
   "cell_type": "code",
   "execution_count": null,
   "metadata": {
    "collapsed": true
   },
   "outputs": [],
   "source": []
  },
  {
   "cell_type": "code",
   "execution_count": null,
   "metadata": {
    "collapsed": true
   },
   "outputs": [],
   "source": []
  },
  {
   "cell_type": "code",
   "execution_count": null,
   "metadata": {
    "collapsed": true
   },
   "outputs": [],
   "source": []
  }
 ],
 "metadata": {
  "anaconda-cloud": {},
  "kernelspec": {
   "display_name": "Python [conda env:tf114_p27]",
   "language": "python",
   "name": "conda-env-tf114_p27-py"
  },
  "language_info": {
   "codemirror_mode": {
    "name": "ipython",
    "version": 2
   },
   "file_extension": ".py",
   "mimetype": "text/x-python",
   "name": "python",
   "nbconvert_exporter": "python",
   "pygments_lexer": "ipython2",
   "version": "2.7.16"
  }
 },
 "nbformat": 4,
 "nbformat_minor": 2
}
