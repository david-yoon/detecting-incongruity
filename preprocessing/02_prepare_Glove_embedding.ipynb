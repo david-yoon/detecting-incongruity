{
 "cells": [
  {
   "cell_type": "markdown",
   "metadata": {},
   "source": [
    "# Prepare Glove vector"
   ]
  },
  {
   "cell_type": "code",
   "execution_count": 1,
   "metadata": {
    "collapsed": true
   },
   "outputs": [],
   "source": [
    "import numpy as np\n",
    "import pickle\n",
    "import operator"
   ]
  },
  {
   "cell_type": "code",
   "execution_count": null,
   "metadata": {
    "collapsed": true
   },
   "outputs": [],
   "source": []
  },
  {
   "cell_type": "code",
   "execution_count": 2,
   "metadata": {
    "collapsed": true
   },
   "outputs": [],
   "source": [
    "def loadGloveModel(gloveFile):\n",
    "    print (\"Loading Glove Model... will take time 4-5 mins\")\n",
    "    model = {}\n",
    "    \n",
    "    with open(gloveFile, 'r') as f:\n",
    "        \n",
    "        lines = f.readlines()\n",
    "        \n",
    "        for line in lines:\n",
    "            splitLine = line.split(' ')\n",
    "            word = splitLine[0]\n",
    "            embedding = [float(val) for val in splitLine[1:]]\n",
    "            model[word] = embedding\n",
    "        print (\"Done.\",len(model),\" words loaded!\")\n",
    "    \n",
    "    return model"
   ]
  },
  {
   "cell_type": "code",
   "execution_count": 3,
   "metadata": {
    "collapsed": true
   },
   "outputs": [],
   "source": [
    "def cal_coverage(voca, glove):\n",
    "\n",
    "    cnt = 0\n",
    "    for token in voca:\n",
    "        if token in glove:\n",
    "            ;\n",
    "        else:\n",
    "            cnt = cnt + 1  \n",
    "\n",
    "    print ('# missing token : ' + str(cnt))\n",
    "    print ('coverage : ' + str( 1 - ( cnt/ float(len(voca)) ) ) )"
   ]
  },
  {
   "cell_type": "code",
   "execution_count": 4,
   "metadata": {
    "collapsed": true
   },
   "outputs": [],
   "source": [
    "def create_glove_embedding(voca, glove):\n",
    "\n",
    "    list_glove_voca = []\n",
    "    cnt = 0\n",
    "\n",
    "    for token in voca:\n",
    "\n",
    "        if token in glove:\n",
    "            if token == '':\n",
    "                print ('TMP code add PAD as 0s - not desired')\n",
    "                list_glove_voca.append( np.zeros(300) )\n",
    "            else:\n",
    "                list_glove_voca.append( glove[token] )\n",
    "        else:\n",
    "            if token == '':\n",
    "                print ('_PAD_ embedding will be added in the model code as 0s')\n",
    "                list_glove_voca.append( np.zeros(300) )  \n",
    "            else:\n",
    "                list_glove_voca.append( np.random.uniform(-0.25, 0.25, 300).tolist() )\n",
    "                cnt = cnt + 1  \n",
    "\n",
    "    print ('coverage : ' + str( 1.0 - ( cnt / float(len(voca)) ) ))\n",
    "    return list_glove_voca"
   ]
  },
  {
   "cell_type": "code",
   "execution_count": null,
   "metadata": {
    "collapsed": true
   },
   "outputs": [],
   "source": []
  },
  {
   "cell_type": "markdown",
   "metadata": {},
   "source": [
    "## 01 load glove model"
   ]
  },
  {
   "cell_type": "code",
   "execution_count": null,
   "metadata": {
    "collapsed": false
   },
   "outputs": [
    {
     "name": "stdout",
     "output_type": "stream",
     "text": [
      "Loading Glove Model... will take time 4-5 mins\n"
     ]
    }
   ],
   "source": [
    "glove = loadGloveModel('../data/embedding/glove.840B.300d.txt')"
   ]
  },
  {
   "cell_type": "code",
   "execution_count": null,
   "metadata": {
    "collapsed": false
   },
   "outputs": [],
   "source": []
  },
  {
   "cell_type": "markdown",
   "metadata": {},
   "source": [
    "## 02 extract pre-trained glove vector that is matched to the index of the target corpus"
   ]
  },
  {
   "cell_type": "code",
   "execution_count": 6,
   "metadata": {
    "collapsed": false
   },
   "outputs": [
    {
     "name": "stdout",
     "output_type": "stream",
     "text": [
      "total dic size : 131537\n",
      "# missing token : 31505\n",
      "coverage : 0.760485642823\n"
     ]
    }
   ],
   "source": [
    "dic = {}\n",
    "with open('../data/processed/NELA_insert_consecutive/whole/dic_mincutN.pkl', 'r') as f:\n",
    "    voca = pickle.load(f)\n",
    "print ('total dic size : ' + str(len(voca)))\n",
    "cal_coverage(voca, glove)"
   ]
  },
  {
   "cell_type": "code",
   "execution_count": null,
   "metadata": {
    "collapsed": false
   },
   "outputs": [],
   "source": []
  },
  {
   "cell_type": "code",
   "execution_count": 7,
   "metadata": {
    "collapsed": false
   },
   "outputs": [
    {
     "name": "stdout",
     "output_type": "stream",
     "text": [
      "_PAD_ embedding will be added in the model code as 0s\n",
      "coverage : 0.760493245247\n",
      "(131537, 300)\n"
     ]
    }
   ],
   "source": [
    "list_glove_voca = create_glove_embedding(voca, glove)\n",
    "len(list_glove_voca)\n",
    "np_glove = np.asarray(list_glove_voca, dtype=np.float32)\n",
    "print (np.shape(np_glove))"
   ]
  },
  {
   "cell_type": "code",
   "execution_count": null,
   "metadata": {
    "collapsed": true
   },
   "outputs": [],
   "source": []
  },
  {
   "cell_type": "code",
   "execution_count": 8,
   "metadata": {
    "collapsed": true
   },
   "outputs": [],
   "source": [
    "np.save('../data/processed/NELA_insert_consecutive/whole/W_embedding.npy', np_glove)"
   ]
  },
  {
   "cell_type": "code",
   "execution_count": null,
   "metadata": {
    "collapsed": false
   },
   "outputs": [],
   "source": []
  },
  {
   "cell_type": "code",
   "execution_count": null,
   "metadata": {
    "collapsed": true
   },
   "outputs": [],
   "source": []
  }
 ],
 "metadata": {
  "anaconda-cloud": {},
  "kernelspec": {
   "display_name": "Python [conda env:tf114_p27]",
   "language": "python",
   "name": "conda-env-tf114_p27-py"
  },
  "language_info": {
   "codemirror_mode": {
    "name": "ipython",
    "version": 2
   },
   "file_extension": ".py",
   "mimetype": "text/x-python",
   "name": "python",
   "nbconvert_exporter": "python",
   "pygments_lexer": "ipython2",
   "version": "2.7.16"
  }
 },
 "nbformat": 4,
 "nbformat_minor": 2
}
