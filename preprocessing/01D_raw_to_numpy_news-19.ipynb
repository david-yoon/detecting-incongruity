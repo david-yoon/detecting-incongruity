{
 "cells": [
  {
   "cell_type": "code",
   "execution_count": 4,
   "metadata": {},
   "outputs": [],
   "source": [
    "import matplotlib.pyplot as plt\n",
    "import numpy as np\n",
    "from tqdm import tqdm\n",
    "%matplotlib inline"
   ]
  },
  {
   "cell_type": "code",
   "execution_count": 5,
   "metadata": {},
   "outputs": [],
   "source": [
    "import datetime\n",
    "import cPickle as pickle\n",
    "import csv\n",
    "import numpy as np\n",
    "import random\n",
    "import sys\n",
    "from file_util import create_folder\n",
    "maxInt = sys.maxsize\n",
    "decrement = True\n",
    "\n",
    "while decrement:\n",
    "    # decrease the maxInt value by factor 10\n",
    "    # as long as the OverflowError occurs.\n",
    "    \n",
    "    decrement = False\n",
    "    try:\n",
    "        csv.field_size_limit(maxInt)\n",
    "    except OverflowError:\n",
    "        maxInt = int(maxInt/10)\n",
    "        decrement = True"
   ]
  },
  {
   "cell_type": "code",
   "execution_count": null,
   "metadata": {},
   "outputs": [],
   "source": []
  },
  {
   "cell_type": "code",
   "execution_count": 6,
   "metadata": {},
   "outputs": [],
   "source": [
    "name_dataset        = 'news-19_swap_headline'\n",
    "path_raw_data       = '../data/raw/' + name_dataset + '/'\n",
    "path_processed_data = '../data/' + name_dataset + '/whole/'"
   ]
  },
  {
   "cell_type": "code",
   "execution_count": 7,
   "metadata": {},
   "outputs": [],
   "source": [
    "create_folder(path_raw_data)\n",
    "create_folder(path_processed_data + '/train')\n",
    "create_folder(path_processed_data + '/dev')\n",
    "create_folder(path_processed_data + '/test')\n",
    "create_folder(path_processed_data + '/debug')"
   ]
  },
  {
   "cell_type": "code",
   "execution_count": null,
   "metadata": {},
   "outputs": [],
   "source": []
  },
  {
   "cell_type": "code",
   "execution_count": null,
   "metadata": {},
   "outputs": [],
   "source": []
  },
  {
   "cell_type": "markdown",
   "metadata": {},
   "source": [
    "# get term-/document-frequency"
   ]
  },
  {
   "cell_type": "code",
   "execution_count": null,
   "metadata": {},
   "outputs": [
    {
     "name": "stdout",
     "output_type": "stream",
     "text": [
      "2020-05-09T11:52:02.551185\n",
      "100000 200000 300000 400000 500000 600000 700000 800000 900000 1000000 1100000 1200000 1300000 1400000 1500000 1600000 1700000 1800000 1900000 2000000"
     ]
    }
   ],
   "source": [
    "csv_reader = csv.reader(open(path_raw_data + 'train.tsv', 'r'), delimiter='\\t')\n",
    "\n",
    "tkn2tf = {}\n",
    "len_heads = [] #1\n",
    "len_paras = [] #2\n",
    "cnt_paras = [] #3\n",
    "len_bodys = [] #4\n",
    "\n",
    "# csv data: 0:id, 1:head, 2:body, 3:label\n",
    "\n",
    "print datetime.datetime.now().isoformat()\n",
    "\n",
    "for n, row in enumerate(csv_reader):\n",
    "    if (n+1) % 100000 == 0: print n+1,\n",
    "    \n",
    "    head = row[1].lower().strip()\n",
    "    \n",
    "    for tkn in head.split():\n",
    "        if tkn in tkn2tf: tkn2tf[tkn] += 1\n",
    "        else: tkn2tf[tkn] = 1\n",
    "    len_heads.append(len(head.split())) #1\n",
    "    \n",
    "    body = row[2].lower().strip()\n",
    "    tkn_para = []\n",
    "    for para in body.split('<eop>'):\n",
    "        if para and para != ' ':\n",
    "            _para = para + '<eop>'\n",
    "            len_para = len(_para.split())\n",
    "            len_paras.append(len_para) #2\n",
    "            tkn_para.append(_para)\n",
    "    cnt_paras.append(len(tkn_para)) #3\n",
    "    \n",
    "    body_split = []\n",
    "    for tkn in body.split():\n",
    "        if tkn in tkn2tf: tkn2tf[tkn] += 1\n",
    "        else: tkn2tf[tkn] = 1\n",
    "        body_split.append(tkn)\n",
    "    len_bodys.append(len(body_split)) #4\n",
    "            \n",
    "print n+1, 'Done'\n",
    "print datetime.datetime.now().isoformat()\n",
    "print 'voca size :', len(tkn2tf)"
   ]
  },
  {
   "cell_type": "code",
   "execution_count": 46,
   "metadata": {},
   "outputs": [
    {
     "data": {
      "text/plain": [
       "4607109"
      ]
     },
     "execution_count": 46,
     "metadata": {},
     "output_type": "execute_result"
    }
   ],
   "source": [
    "n"
   ]
  },
  {
   "cell_type": "code",
   "execution_count": 47,
   "metadata": {},
   "outputs": [
    {
     "name": "stderr",
     "output_type": "stream",
     "text": [
      "6030705it [00:04, 1301747.32it/s]"
     ]
    },
    {
     "name": "stdout",
     "output_type": "stream",
     "text": [
      "6030707 No problem\n",
      "\n",
      "Show top-10 tkn:\n",
      "the : 149756232\n",
      ", : 132282352\n",
      "<eos> : 125113615\n",
      ". : 110259142\n",
      "to : 73400422\n",
      "of : 65310225\n",
      "<eop> : 64078888\n",
      "and : 63459485\n",
      "a : 61726426\n",
      "in : 53962619\n",
      "\n"
     ]
    },
    {
     "name": "stderr",
     "output_type": "stream",
     "text": [
      "\n"
     ]
    }
   ],
   "source": [
    "sorted_token = sorted(tkn2tf.items(), key=lambda kv: kv[1], reverse=True)\n",
    "tkn2idx = {}\n",
    "for idx, (tkn, _) in tqdm(enumerate(sorted_token)):\n",
    "    tkn2idx[tkn] = idx + 2\n",
    "tkn2idx['<UNK>'] = 1\n",
    "tkn2idx[''] = 0\n",
    "if len(tkn2idx) == len(tkn2tf)+2:\n",
    "    print len(tkn2idx), 'No problem'\n",
    "print \n",
    "\n",
    "print 'Show top-10 tkn:'\n",
    "for tkn, freq in sorted_token[:10]:\n",
    "    print tkn,':',freq\n",
    "print ''"
   ]
  },
  {
   "cell_type": "code",
   "execution_count": null,
   "metadata": {},
   "outputs": [],
   "source": []
  },
  {
   "cell_type": "code",
   "execution_count": 48,
   "metadata": {},
   "outputs": [],
   "source": [
    "with open(path_processed_data + 'dic_mincut0.txt', 'wb') as f:\n",
    "    for key in tkn2idx.keys():\n",
    "        f.write(key+'\\n')"
   ]
  },
  {
   "cell_type": "code",
   "execution_count": 68,
   "metadata": {},
   "outputs": [
    {
     "name": "stdout",
     "output_type": "stream",
     "text": [
      "voca size : 186631\n"
     ]
    }
   ],
   "source": [
    "tkn2tf_mincut5 = {}\n",
    "for tkn, tf in tkn2tf.items():\n",
    "    if tf < 100:\n",
    "        continue\n",
    "    tkn2tf_mincut5[tkn] = tf\n",
    "print 'voca size :', len(tkn2tf_mincut5)"
   ]
  },
  {
   "cell_type": "code",
   "execution_count": null,
   "metadata": {},
   "outputs": [],
   "source": []
  },
  {
   "cell_type": "code",
   "execution_count": 69,
   "metadata": {},
   "outputs": [],
   "source": [
    "tkn2tf_mincut5['<EOS>'] = tkn2tf_mincut5['<eos>']\n",
    "tkn2tf_mincut5['<EOP>'] = tkn2tf_mincut5['<eop>']\n",
    "\n",
    "del tkn2tf_mincut5['<eos>']\n",
    "del tkn2tf_mincut5['<eop>']"
   ]
  },
  {
   "cell_type": "code",
   "execution_count": 70,
   "metadata": {},
   "outputs": [],
   "source": [
    "import operator\n",
    "sorted_voca = sorted(tkn2tf_mincut5.items(), key=operator.itemgetter(1))"
   ]
  },
  {
   "cell_type": "code",
   "execution_count": 71,
   "metadata": {},
   "outputs": [
    {
     "name": "stdout",
     "output_type": "stream",
     "text": [
      "('existing word', '<EOP>')\n",
      "('existing word', '<EOS>')\n"
     ]
    },
    {
     "data": {
      "text/plain": [
       "186633"
      ]
     },
     "execution_count": 71,
     "metadata": {},
     "output_type": "execute_result"
    }
   ],
   "source": [
    "list_voca_mincut = []\n",
    "list_voca_mincut.append('')   # PAD\n",
    "list_voca_mincut.append('<UNK>')   # UNK\n",
    "list_voca_mincut.append('<EOS>')   # EOS\n",
    "list_voca_mincut.append('<EOP>')   # EOP\n",
    "\n",
    "for word, idx in sorted_voca:\n",
    "    if word=='<UNK>' or word=='<EOP>' or word=='<EOS>':\n",
    "        print(\"existing word\", word)\n",
    "        continue\n",
    "    else:\n",
    "        list_voca_mincut.append(word)\n",
    "        \n",
    "len(list_voca_mincut)"
   ]
  },
  {
   "cell_type": "code",
   "execution_count": null,
   "metadata": {},
   "outputs": [],
   "source": []
  },
  {
   "cell_type": "code",
   "execution_count": 72,
   "metadata": {},
   "outputs": [],
   "source": [
    "with open(path_processed_data + 'dic_mincutN.txt', 'wb') as f:\n",
    "    for i in range(len(list_voca_mincut)):\n",
    "        f.write(list_voca_mincut[i]+'\\n')"
   ]
  },
  {
   "cell_type": "code",
   "execution_count": 73,
   "metadata": {},
   "outputs": [],
   "source": [
    "dic_voca = {}\n",
    "for voca in list_voca_mincut:\n",
    "    dic_voca[voca] = len(dic_voca)"
   ]
  },
  {
   "cell_type": "code",
   "execution_count": 74,
   "metadata": {},
   "outputs": [
    {
     "name": "stdout",
     "output_type": "stream",
     "text": [
      "(0, 1, 2, 3)\n"
     ]
    }
   ],
   "source": [
    "print(dic_voca[''], dic_voca['<UNK>'], dic_voca['<EOS>'], dic_voca['<EOP>'])"
   ]
  },
  {
   "cell_type": "code",
   "execution_count": null,
   "metadata": {},
   "outputs": [],
   "source": []
  },
  {
   "cell_type": "code",
   "execution_count": 75,
   "metadata": {},
   "outputs": [],
   "source": [
    "with open(path_processed_data + 'dic_mincutN.pkl', 'wb') as f:\n",
    "    pickle.dump(dic_voca, f)"
   ]
  },
  {
   "cell_type": "code",
   "execution_count": null,
   "metadata": {},
   "outputs": [],
   "source": []
  },
  {
   "cell_type": "code",
   "execution_count": null,
   "metadata": {},
   "outputs": [],
   "source": []
  },
  {
   "cell_type": "markdown",
   "metadata": {},
   "source": [
    "## read voca from dic"
   ]
  },
  {
   "cell_type": "code",
   "execution_count": 8,
   "metadata": {},
   "outputs": [],
   "source": [
    "list_voca = []\n",
    "with open(path_processed_data + 'dic_mincutN.txt', 'r') as f:\n",
    "    list_voca = f.readlines()\n",
    "    list_voca = [x.strip() for x in list_voca]\n",
    "\n",
    "dic_voca = {}\n",
    "for voca in list_voca:\n",
    "    dic_voca[voca] = len(dic_voca)"
   ]
  },
  {
   "cell_type": "code",
   "execution_count": null,
   "metadata": {},
   "outputs": [],
   "source": []
  },
  {
   "cell_type": "code",
   "execution_count": null,
   "metadata": {},
   "outputs": [],
   "source": []
  },
  {
   "cell_type": "markdown",
   "metadata": {},
   "source": [
    "## for data processing"
   ]
  },
  {
   "cell_type": "code",
   "execution_count": 9,
   "metadata": {},
   "outputs": [],
   "source": [
    "import copy\n",
    "dic_voca_lower = copy.deepcopy(dic_voca)"
   ]
  },
  {
   "cell_type": "code",
   "execution_count": 10,
   "metadata": {},
   "outputs": [],
   "source": [
    "dic_voca_lower['<eos>'] = dic_voca_lower['<EOS>']\n",
    "dic_voca_lower['<eop>'] = dic_voca_lower['<EOP>']\n",
    "\n",
    "del dic_voca_lower['<EOS>']\n",
    "del dic_voca_lower['<EOP>']"
   ]
  },
  {
   "cell_type": "code",
   "execution_count": 11,
   "metadata": {},
   "outputs": [
    {
     "data": {
      "text/plain": [
       "186633"
      ]
     },
     "execution_count": 11,
     "metadata": {},
     "output_type": "execute_result"
    }
   ],
   "source": [
    "len(dic_voca_lower)"
   ]
  },
  {
   "cell_type": "code",
   "execution_count": 12,
   "metadata": {},
   "outputs": [
    {
     "name": "stdout",
     "output_type": "stream",
     "text": [
      "(0, 1, 2, 3)\n"
     ]
    }
   ],
   "source": [
    "print(dic_voca_lower[''], dic_voca_lower['<UNK>'], dic_voca_lower['<eos>'], dic_voca_lower['<eop>'])"
   ]
  },
  {
   "cell_type": "code",
   "execution_count": null,
   "metadata": {},
   "outputs": [],
   "source": []
  },
  {
   "cell_type": "code",
   "execution_count": null,
   "metadata": {},
   "outputs": [],
   "source": []
  },
  {
   "cell_type": "markdown",
   "metadata": {},
   "source": [
    "## stats"
   ]
  },
  {
   "cell_type": "code",
   "execution_count": 80,
   "metadata": {},
   "outputs": [],
   "source": [
    "import csv\n",
    "import sys\n",
    "import numpy as np\n",
    "\n",
    "data= []\n",
    "with open(path_raw_data + 'train.tsv', 'r') as f:\n",
    "    data_csv = csv.reader(f, delimiter='\\t')\n",
    "    for row in data_csv:\n",
    "        data.append(row)"
   ]
  },
  {
   "cell_type": "code",
   "execution_count": 81,
   "metadata": {},
   "outputs": [],
   "source": [
    "def print_info(data):\n",
    "    print(\"mean\", np.average(data))\n",
    "    print(\"std\", np.std(data))\n",
    "    print(\"max\", np.max(data))\n",
    "    print(\"95.xx coverage\", np.average(data) +  2*np.std(data) )\n",
    "    print(\"99.73 coverage\", np.average(data) +  3*np.std(data) )\n",
    "    print(\"99.95 coverage\", np.average(data) +  3.5*np.std(data) )\n",
    "    print(\"99.99 coverage\", np.average(data) +  4*np.std(data) )"
   ]
  },
  {
   "cell_type": "code",
   "execution_count": 82,
   "metadata": {},
   "outputs": [
    {
     "name": "stdout",
     "output_type": "stream",
     "text": [
      "head_len\n",
      "('mean', 10.444530302076572)\n",
      "('std', 3.747475154612142)\n",
      "('max', 65)\n",
      "('95.xx coverage', 17.939480611300855)\n",
      "('99.73 coverage', 21.686955765912998)\n",
      "('99.95 coverage', 23.560693343219068)\n",
      "('99.99 coverage', 25.434430920525138)\n"
     ]
    }
   ],
   "source": [
    "head = [x[1].strip() for x in data]\n",
    "head_len = [len(x.split()) for x in head]\n",
    "print('head_len')\n",
    "print_info(head_len)"
   ]
  },
  {
   "cell_type": "code",
   "execution_count": 83,
   "metadata": {},
   "outputs": [],
   "source": [
    "body = [x[2].strip() for x in data]"
   ]
  },
  {
   "cell_type": "code",
   "execution_count": 84,
   "metadata": {},
   "outputs": [
    {
     "name": "stdout",
     "output_type": "stream",
     "text": [
      "body_len\n",
      "('mean', 690.5726433707899)\n",
      "('std', 472.090307645516)\n",
      "('max', 27362)\n",
      "('95.xx coverage', 1634.753258661822)\n",
      "('99.73 coverage', 2106.843566307338)\n",
      "('99.95 coverage', 2342.888720130096)\n",
      "('99.99 coverage', 2578.933873952854)\n"
     ]
    }
   ],
   "source": [
    "body_len = [len(x.split()) for x in body ]\n",
    "print('body_len')\n",
    "print_info(body_len)"
   ]
  },
  {
   "cell_type": "code",
   "execution_count": 85,
   "metadata": {},
   "outputs": [
    {
     "name": "stdout",
     "output_type": "stream",
     "text": [
      "context_len\n",
      "('mean', 14.908695038755315)\n",
      "('std', 8.101874010378433)\n",
      "('max', 51)\n",
      "('95.xx coverage', 31.11244305951218)\n",
      "('99.73 coverage', 39.21431706989061)\n",
      "('99.95 coverage', 43.26525407507983)\n",
      "('99.99 coverage', 47.31619108026905)\n"
     ]
    }
   ],
   "source": [
    "context_len = [len(x.split('<EOP>')) for x in body]\n",
    "print('context_len')\n",
    "print_info(context_len)"
   ]
  },
  {
   "cell_type": "code",
   "execution_count": 86,
   "metadata": {},
   "outputs": [
    {
     "name": "stdout",
     "output_type": "stream",
     "text": [
      "body_sentence\n",
      "('mean', 45.38720166808962)\n",
      "('std', 43.027589989589494)\n",
      "('max', 27074)\n",
      "('95.xx coverage', 131.4423816472686)\n",
      "('99.73 coverage', 174.46997163685808)\n",
      "('99.95 coverage', 195.98376663165283)\n",
      "('99.99 coverage', 217.49756162644758)\n"
     ]
    }
   ],
   "source": [
    "body_sentence = []\n",
    "for sent in body:\n",
    "    sent = sent.split('<EOP>')\n",
    "    body_sentence.extend(sent)\n",
    "body_len = [ len(x.split()) for x in body_sentence ]    \n",
    "print('body_sentence')\n",
    "print_info(body_len)"
   ]
  },
  {
   "cell_type": "code",
   "execution_count": null,
   "metadata": {},
   "outputs": [],
   "source": []
  },
  {
   "cell_type": "code",
   "execution_count": null,
   "metadata": {},
   "outputs": [],
   "source": []
  },
  {
   "cell_type": "code",
   "execution_count": null,
   "metadata": {},
   "outputs": [],
   "source": []
  },
  {
   "cell_type": "markdown",
   "metadata": {
    "collapsed": true
   },
   "source": [
    "# encode to numpy"
   ]
  },
  {
   "cell_type": "code",
   "execution_count": 13,
   "metadata": {},
   "outputs": [],
   "source": [
    "def fit_length(data, max_len_t, max_len_b):\n",
    "    data_t, data_b = data\n",
    "    \n",
    "    list_zeros = np.zeros(max_len_b, 'int32').tolist()\n",
    "    fl_data_t = []\n",
    "    for datum in data_t:\n",
    "        try:\n",
    "            datum = list(datum)\n",
    "        except:\n",
    "            pass\n",
    "        _len = len(datum)\n",
    "        if _len >= max_len_t:\n",
    "            fl_data_t.append( datum[:max_len_t] )\n",
    "        else:\n",
    "            fl_data_t.append( datum + list_zeros[:(max_len_t-_len)] )\n",
    "            \n",
    "    fl_data_b = []\n",
    "    for datum in data_b:\n",
    "        try:\n",
    "            datum = list(datum)\n",
    "        except:\n",
    "            pass\n",
    "        _len = len(datum)\n",
    "        if _len >= max_len_b:\n",
    "            fl_data_b.append( datum[:max_len_b] )\n",
    "        else:\n",
    "            fl_data_b.append( datum + list_zeros[:(max_len_b-_len)] )\n",
    "    \n",
    "    np_data_t = np.asarray(fl_data_t, dtype='int32')\n",
    "    np_data_b = np.asarray(fl_data_b, dtype='int32')\n",
    "    \n",
    "    data = [np_data_t, np_data_b]\n",
    "    return data"
   ]
  },
  {
   "cell_type": "code",
   "execution_count": 38,
   "metadata": {},
   "outputs": [
    {
     "name": "stdout",
     "output_type": "stream",
     "text": [
      "2020-05-09T23:51:06.002390\n",
      "3010000 3020000 3030000 3040000 3050000 3060000 3070000 3080000 3090000 3100000 3110000 3120000 3130000 3140000 3150000 3160000 3170000 3180000 3190000 3200000 3210000 3220000 3230000 3240000 3250000 3260000 3270000 3280000 3290000 3300000 3310000 3320000 3330000 3340000 3350000 3360000 3370000 3380000 3390000 3400000 3410000 3420000 3430000 3440000 3450000 3460000 3470000 3480000 3490000 3500000 3510000 3520000 3530000 3540000 3550000 3560000 3570000 3580000 3590000 3600000 3610000 3620000 3630000 3640000 3650000 3660000 3670000 3680000 3690000 3700000 3710000 3720000 3730000 3740000 3750000 3760000 3770000 3780000 3790000 3800000 3810000 3820000 3830000 3840000 3850000 3860000 3870000 3880000 3890000 3900000 3910000 3920000 3930000 3940000 3950000 3960000 3970000 3980000 3990000 4000000 4010000 4020000 4030000 4040000 4050000 4060000 4070000 4080000 4090000 4100000 4110000 4120000 4130000 4140000 4150000 4160000 4170000 4180000 4190000 4200000 4210000 4220000 4230000 4240000 4250000 4260000 4270000 4280000 4290000 4300000 4310000 4320000 4330000 4340000 4350000 4360000 4370000 4380000 4390000 4400000 4410000 4420000 4430000 4440000 4450000 4460000 4470000 4480000 4490000 4500000 4510000 4520000 4530000 4540000 4550000 4560000 4570000 4580000 4590000 4600000 4607110 Done\n",
      "2020-05-09T23:57:08.645350\n"
     ]
    }
   ],
   "source": [
    "csv_reader = csv.reader(open(path_raw_data + 'train.tsv', 'r'), delimiter='\\t')\n",
    "\n",
    "print datetime.datetime.now().isoformat()\n",
    "ids = []\n",
    "heads = []\n",
    "bodys = []\n",
    "labels = []\n",
    "for n, row in enumerate(csv_reader):\n",
    "    \n",
    "#     if n <  3000000:\n",
    "#         continue\n",
    "    \n",
    "    if (n+1) % 10000 == 0: print n+1,\n",
    "    \n",
    "    ids.append(row[0])\n",
    "    labels.append(int(row[3]))\n",
    "    \n",
    "    head = []\n",
    "    for tkn in row[1].lower().strip().split():\n",
    "        if tkn in dic_voca_lower:\n",
    "            head.append(dic_voca_lower[tkn])\n",
    "        else:\n",
    "            head.append(1)\n",
    "            \n",
    "    heads.append(head)\n",
    "    \n",
    "    body = []\n",
    "    for tkn in row[2].lower().strip().split():\n",
    "        if tkn in dic_voca_lower:\n",
    "            body.append(dic_voca_lower[tkn])\n",
    "        else:\n",
    "            body.append(1)\n",
    "            \n",
    "    bodys.append(body)\n",
    "    \n",
    "print n+1, 'Done'\n",
    "print datetime.datetime.now().isoformat() # ~5 mins"
   ]
  },
  {
   "cell_type": "code",
   "execution_count": 39,
   "metadata": {},
   "outputs": [
    {
     "name": "stdout",
     "output_type": "stream",
     "text": [
      "2020-05-09T23:57:08.654428\n",
      "2020-05-10T00:02:24.063221\n"
     ]
    }
   ],
   "source": [
    "print datetime.datetime.now().isoformat()\n",
    "[np_heads, np_bodys] = fit_length([heads, bodys], 25, 2100)\n",
    "print datetime.datetime.now().isoformat() # ~3 mins"
   ]
  },
  {
   "cell_type": "code",
   "execution_count": 40,
   "metadata": {},
   "outputs": [
    {
     "name": "stdout",
     "output_type": "stream",
     "text": [
      "2020-05-10T00:02:24.087299\n",
      "2020-05-10T00:03:09.489084\n"
     ]
    }
   ],
   "source": [
    "print datetime.datetime.now().isoformat()\n",
    "t_trainpath = path_processed_data + '/train/train_title_300-end.npy'\n",
    "np.save(t_trainpath, np_heads)\n",
    "b_trainpath = path_processed_data + '/train/train_body_300-end.npy'\n",
    "np.save(b_trainpath, np_bodys)\n",
    "l_trainpath = path_processed_data + '/train/train_label_300-end.npy'\n",
    "np.save(l_trainpath, labels)\n",
    "print datetime.datetime.now().isoformat()"
   ]
  },
  {
   "cell_type": "markdown",
   "metadata": {},
   "source": [
    "# devset"
   ]
  },
  {
   "cell_type": "code",
   "execution_count": 28,
   "metadata": {},
   "outputs": [
    {
     "name": "stdout",
     "output_type": "stream",
     "text": [
      "2020-05-09T23:34:35.458949\n",
      "9694 Done\n",
      "2020-05-09T23:34:37.670537\n"
     ]
    }
   ],
   "source": [
    "csv_reader = csv.reader(open(path_raw_data + 'dev.tsv', 'r'), delimiter='\\t')\n",
    "\n",
    "print datetime.datetime.now().isoformat()\n",
    "ids_dev = []\n",
    "heads_dev = []\n",
    "bodys_dev = []\n",
    "labels_dev = []\n",
    "for n, row in enumerate(csv_reader):\n",
    "    if (n+1) % 10000 == 0: print n+1,\n",
    "    \n",
    "    ids_dev.append(row[0])\n",
    "    labels_dev.append(int(row[3]))\n",
    "    \n",
    "    head = []\n",
    "    for tkn in row[1].lower().strip().split():\n",
    "        if tkn in dic_voca_lower:\n",
    "            head.append(dic_voca_lower[tkn])\n",
    "        else:\n",
    "            head.append(1)\n",
    "    heads_dev.append(head)\n",
    "    \n",
    "    body = []\n",
    "    for tkn in row[2].lower().strip().split():\n",
    "        if tkn in dic_voca_lower:\n",
    "            body.append(dic_voca_lower[tkn])\n",
    "        else:\n",
    "            body.append(1)\n",
    "    bodys_dev.append(body)\n",
    "    \n",
    "print n+1, 'Done'\n",
    "print datetime.datetime.now().isoformat()"
   ]
  },
  {
   "cell_type": "code",
   "execution_count": 29,
   "metadata": {},
   "outputs": [
    {
     "name": "stdout",
     "output_type": "stream",
     "text": [
      "2020-05-09T23:34:48.755332\n",
      "2020-05-09T23:34:50.238275\n"
     ]
    }
   ],
   "source": [
    "print datetime.datetime.now().isoformat()\n",
    "[np_heads_dev, np_bodys_dev] = fit_length([heads_dev, bodys_dev], 25, 2100)\n",
    "print datetime.datetime.now().isoformat() # ~3 mins"
   ]
  },
  {
   "cell_type": "code",
   "execution_count": 31,
   "metadata": {},
   "outputs": [
    {
     "name": "stdout",
     "output_type": "stream",
     "text": [
      "2020-05-09T23:35:08.170559\n",
      "2020-05-09T23:35:08.272466\n"
     ]
    }
   ],
   "source": [
    "print datetime.datetime.now().isoformat()\n",
    "t_trainpath = path_processed_data + '/dev/dev_title.npy'\n",
    "np.save(t_trainpath, np_heads_dev)\n",
    "b_trainpath = path_processed_data + '/dev/dev_body.npy'\n",
    "np.save(b_trainpath, np_bodys_dev)\n",
    "l_trainpath = path_processed_data + '/dev/dev_label.npy'\n",
    "np.save(l_trainpath, labels_dev)\n",
    "print datetime.datetime.now().isoformat()"
   ]
  },
  {
   "cell_type": "code",
   "execution_count": null,
   "metadata": {},
   "outputs": [],
   "source": []
  },
  {
   "cell_type": "code",
   "execution_count": null,
   "metadata": {},
   "outputs": [],
   "source": []
  },
  {
   "cell_type": "markdown",
   "metadata": {},
   "source": [
    "# testset"
   ]
  },
  {
   "cell_type": "code",
   "execution_count": 20,
   "metadata": {},
   "outputs": [
    {
     "name": "stdout",
     "output_type": "stream",
     "text": [
      "2020-05-09T23:32:52.894253\n",
      "9626 Done\n",
      "2020-05-09T23:33:21.303511\n"
     ]
    }
   ],
   "source": [
    "csv_reader = csv.reader(open(path_raw_data + '/test.tsv', 'r'), delimiter='\\t')\n",
    "\n",
    "print datetime.datetime.now().isoformat()\n",
    "ids_dev = []\n",
    "heads_dev = []\n",
    "bodys_dev = []\n",
    "labels_dev = []\n",
    "for n, row in enumerate(csv_reader):\n",
    "    if (n+1) % 10000 == 0: print n+1,\n",
    "    \n",
    "    ids_dev.append(row[0])\n",
    "    labels_dev.append(int(row[3]))\n",
    "    \n",
    "    head = []\n",
    "    for tkn in row[1].lower().strip().split():\n",
    "        if tkn in dic_voca_lower:\n",
    "            head.append(dic_voca_lower[tkn])\n",
    "        else:\n",
    "            head.append(1)\n",
    "    heads_dev.append(head)\n",
    "    \n",
    "    body = []\n",
    "    for tkn in row[2].lower().strip().split():\n",
    "        if tkn in dic_voca_lower:\n",
    "            body.append(dic_voca_lower[tkn])\n",
    "        else:\n",
    "            body.append(1)\n",
    "    bodys_dev.append(body)\n",
    "    \n",
    "print n+1, 'Done'\n",
    "print datetime.datetime.now().isoformat()"
   ]
  },
  {
   "cell_type": "code",
   "execution_count": 21,
   "metadata": {},
   "outputs": [
    {
     "name": "stdout",
     "output_type": "stream",
     "text": [
      "2020-05-09T23:33:21.312804\n",
      "2020-05-09T23:33:22.601114\n"
     ]
    }
   ],
   "source": [
    "print datetime.datetime.now().isoformat()\n",
    "[np_heads_dev, np_bodys_dev] = fit_length([heads_dev, bodys_dev], 25, 2100)\n",
    "print datetime.datetime.now().isoformat() # ~3 mins"
   ]
  },
  {
   "cell_type": "code",
   "execution_count": 22,
   "metadata": {},
   "outputs": [
    {
     "name": "stdout",
     "output_type": "stream",
     "text": [
      "2020-05-09T23:33:22.612300\n",
      "2020-05-09T23:33:22.684770\n"
     ]
    }
   ],
   "source": [
    "print datetime.datetime.now().isoformat()\n",
    "t_trainpath = path_processed_data + '/test/test_title.npy'\n",
    "np.save(t_trainpath, np_heads_dev)\n",
    "b_trainpath = path_processed_data + '/test/test_body.npy'\n",
    "np.save(b_trainpath, np_bodys_dev)\n",
    "l_trainpath = path_processed_data + '/test/test_label.npy'\n",
    "np.save(l_trainpath, labels_dev)\n",
    "print datetime.datetime.now().isoformat()"
   ]
  },
  {
   "cell_type": "code",
   "execution_count": null,
   "metadata": {},
   "outputs": [],
   "source": []
  },
  {
   "cell_type": "code",
   "execution_count": null,
   "metadata": {},
   "outputs": [],
   "source": []
  },
  {
   "cell_type": "markdown",
   "metadata": {},
   "source": [
    "# debugset"
   ]
  },
  {
   "cell_type": "code",
   "execution_count": 23,
   "metadata": {},
   "outputs": [
    {
     "name": "stdout",
     "output_type": "stream",
     "text": [
      "2020-05-09T23:33:22.694492\n",
      "2020-05-09T23:33:22.993126\n"
     ]
    }
   ],
   "source": [
    "print datetime.datetime.now().isoformat()\n",
    "t_trainpath = path_processed_data + '/debug/debug_title.npy'\n",
    "np.save(t_trainpath, np_heads_dev[:200])\n",
    "b_trainpath = path_processed_data + '/debug/debug_body.npy'\n",
    "np.save(b_trainpath, np_bodys_dev[:200])\n",
    "l_trainpath = path_processed_data + '/debug/debug_label.npy'\n",
    "np.save(l_trainpath, labels_dev[:200])\n",
    "print datetime.datetime.now().isoformat()"
   ]
  },
  {
   "cell_type": "code",
   "execution_count": null,
   "metadata": {},
   "outputs": [],
   "source": []
  },
  {
   "cell_type": "code",
   "execution_count": 24,
   "metadata": {},
   "outputs": [],
   "source": [
    "with open(path_processed_data + 'dic_mincutN.txt') as f:\n",
    "    test_list_voca = f.readlines()\n",
    "    test_list_voca = [x.strip() for x in test_list_voca]"
   ]
  },
  {
   "cell_type": "code",
   "execution_count": 25,
   "metadata": {},
   "outputs": [],
   "source": [
    "from nlp_vocab import Vocab"
   ]
  },
  {
   "cell_type": "code",
   "execution_count": 26,
   "metadata": {},
   "outputs": [],
   "source": [
    "tt = Vocab(test_list_voca)"
   ]
  },
  {
   "cell_type": "code",
   "execution_count": 27,
   "metadata": {},
   "outputs": [
    {
     "name": "stdout",
     "output_type": "stream",
     "text": [
      "democrats need to be more democratic                   \n"
     ]
    }
   ],
   "source": [
    "print(tt.index2sent(np_heads_dev[10]))"
   ]
  },
  {
   "cell_type": "code",
   "execution_count": null,
   "metadata": {},
   "outputs": [],
   "source": []
  },
  {
   "cell_type": "code",
   "execution_count": null,
   "metadata": {},
   "outputs": [],
   "source": []
  },
  {
   "cell_type": "code",
   "execution_count": null,
   "metadata": {},
   "outputs": [],
   "source": []
  },
  {
   "cell_type": "code",
   "execution_count": null,
   "metadata": {
    "collapsed": true
   },
   "outputs": [],
   "source": []
  },
  {
   "cell_type": "code",
   "execution_count": null,
   "metadata": {
    "collapsed": true
   },
   "outputs": [],
   "source": []
  },
  {
   "cell_type": "markdown",
   "metadata": {
    "collapsed": true
   },
   "source": [
    "## 아래는 아직 진행 안함"
   ]
  },
  {
   "cell_type": "code",
   "execution_count": null,
   "metadata": {
    "collapsed": true
   },
   "outputs": [],
   "source": []
  },
  {
   "cell_type": "markdown",
   "metadata": {},
   "source": [
    "# para ver."
   ]
  },
  {
   "cell_type": "code",
   "execution_count": 15,
   "metadata": {},
   "outputs": [],
   "source": [
    "SEED = 448\n",
    "random.seed(SEED)"
   ]
  },
  {
   "cell_type": "code",
   "execution_count": 16,
   "metadata": {},
   "outputs": [
    {
     "name": "stdout",
     "output_type": "stream",
     "text": [
      "2017-12-30T10:40:39.559846\n",
      "100000 200000 300000 400000 500000 600000 700000 800000 900000 1000000 1100000 1200000 1300000 1400000 1500000 1600000 1700000 1800000 1900000 2000000 2100000 2200000 2300000 2400000 2500000 2600000 2700000 2800000 2900000 3000000 3100000 3200000 3300000 3400000 3500000 3600000 3700000 3800000 3900000 4000000 4100000 4200000 4300000 4400000 4500000 4600000 4700000 4800000 4900000 5000000 5100000 5200000 5300000 5400000 5500000 5600000 5700000 5800000 5900000 6000000 6100000 6200000 6300000 6400000 6500000 6600000 6700000 6800000 6900000 7000000 7100000 7200000 7300000 7400000 7500000 7600000 7700000 7800000 7900000 8000000 8100000 8200000 8300000 8400000 8500000 8600000 8700000 8800000 8900000 9000000 9100000 9200000 9300000 9400000 9500000 9600000 9700000 9800000 9900000 10000000 10100000 10200000 10300000 10400000 10500000 10600000 10700000 10800000 10900000 11000000 11100000 11200000 11300000 11400000 11500000 11600000 11700000 11800000 11900000 12000000 12100000 12200000 12300000 12400000 12500000 12600000 12700000 12800000 12900000 13000000 13100000 13200000 13300000 13400000 13500000 13600000 13700000 13800000 13900000 14000000 14100000 14200000 2017-12-30T10:42:21.875894\n",
      "10000 20000 30000 40000 50000 60000 70000 80000 90000 100000 110000 120000 130000 140000 150000 160000 170000 180000 190000 200000 210000 220000 230000 240000 250000 260000 270000 280000 290000 300000 310000 320000 330000 340000 350000 360000 370000 380000 390000 400000 410000 420000 430000 440000 450000 460000 470000 480000 490000 500000 510000 520000 530000 540000 550000 560000 570000 580000 590000 600000 610000 620000 630000 640000 650000 660000 670000 680000 690000 700000 710000 720000 730000 740000 750000 760000 770000 780000 790000 800000 810000 820000 830000 840000 850000 860000 870000 880000 890000 900000 910000 920000 930000 940000 950000 960000 970000 980000 990000 1000000 1010000 1020000 1030000 1040000 1050000 1060000 1070000 1080000 1090000 1100000 1110000 1120000 1130000 1140000 1150000 1160000 1170000 1180000 1190000 1200000 1210000 1220000 1230000 1240000 1250000 1260000 1270000 1280000 1290000 1300000 1310000 1320000 1330000 1340000 1350000 1360000 1370000 1380000 1390000 1400000 1410000 1420000 1430000 1440000 1450000 1460000 1470000 1480000 1490000 1500000 1510000 1520000 1530000 1540000 1550000 1560000 1570000 1580000 1590000 1600000 1610000 1620000 1630000 1640000 1650000 1660000 1670000 1680000 1690000 1700000 1710000 1720000 1730000 1740000 1750000 1760000 1770000 1780000 1790000 1800000 1810000 1820000 1830000 1840000 1850000 1860000 1870000 1880000 1890000 1900000 1910000 1920000 1930000 1940000 1950000 1960000 1970000 1980000 1990000 2000000 2010000 2020000 2030000 2040000 2050000 2060000 2070000 2080000 2090000 2100000 2110000 2120000 2130000 2140000 2150000 2160000 2170000 2180000 2190000 2200000 2210000 2220000 2230000 2240000 2250000 2260000 2270000 2280000 2290000 2300000 2310000 2320000 2330000 2340000 2350000 2360000 2370000 2380000 2390000 2400000 2410000 2420000 2430000 2440000 2450000 2460000 2470000 2480000 2490000 2500000 2510000 2520000 2530000 2540000 2550000 2560000 2570000 2580000 2590000 2600000 2610000 2620000 2630000 2640000 2650000 2660000 2670000 2680000 2690000 2700000 2710000 2720000 2730000 2740000 2750000 2760000 2770000 2780000 2790000 2800000 2810000 2820000 2830000 2840000 2850000 2860000 2870000 2880000 2890000 2900000 2910000 2920000 2930000 2940000 2950000 2960000 2970000 2980000 2990000 3000000 3010000 3020000 3030000 3040000 3050000 3060000 3070000 3080000 3090000 3100000 3110000 3120000 3130000 3140000 3150000 3160000 3170000 3180000 3190000 3200000 3210000 3220000 3230000 3240000 3250000 3260000 3270000 3280000 3290000 3300000 3310000 3320000 3330000 3340000 3350000 3360000 3370000 3380000 3390000 3400000 3410000 3420000 3430000 3440000 3450000 3460000 3470000 3480000 3490000 3500000 3510000 3520000 3530000 3540000 3550000 3560000 3570000 3580000 3590000 3600000 3610000 3620000 3630000 3640000 3650000 3660000 3670000 3680000 3690000 3700000 3710000 3720000 3730000 3740000 3750000 3760000 3770000 3780000 3790000 3800000 3810000 3820000 3830000 3840000 3850000 3860000 3870000 3880000 3890000 3900000 3910000 3920000 3930000 3940000 3950000 3960000 3970000 3980000 3990000 4000000 4010000 4020000 4030000 4040000 4050000 4060000 4070000 4080000 4081788 : Done\n",
      "2017-12-30T10:44:30.655514\n",
      "2017-12-30T10:44:30.655764\n",
      "numpy: Done\n",
      "2017-12-30T10:45:56.835203\n",
      "2017-12-30T10:45:56.835352\n",
      "save: Done\n",
      "2017-12-30T10:45:58.375929\n"
     ]
    }
   ],
   "source": [
    "csv_reader = csv.reader(open('version2/data_para_train.csv', 'r'))\n",
    "\n",
    "print datetime.datetime.now().isoformat()\n",
    "data = []\n",
    "true_data = []\n",
    "for n, row in enumerate(csv_reader):\n",
    "    if (n+1) % 100000 == 0: print n+1,\n",
    "        \n",
    "    if row[3] == \"1\":\n",
    "        data.append(row)\n",
    "    else:\n",
    "        true_data.append(row)\n",
    "\n",
    "random.shuffle(true_data)\n",
    "data += true_data[:len(data)]\n",
    "\n",
    "print datetime.datetime.now().isoformat()\n",
    "ids_para = []\n",
    "heads_para = []\n",
    "bodys_para = []\n",
    "labels_para = []    \n",
    "for n, row in enumerate(data):\n",
    "    if (n+1) % 10000 == 0: print n+1,\n",
    "    \n",
    "    ids_para.append(row[0])\n",
    "    labels_para.append(int(row[3]))\n",
    "    \n",
    "    head = []\n",
    "    for tkn in row[1].split():\n",
    "        if tkn in tkn2idx_mincut5:\n",
    "            head.append(tkn2idx_mincut5[tkn])\n",
    "        else:\n",
    "            head.append(1)\n",
    "    heads_para.append(head)\n",
    "    \n",
    "    body = []\n",
    "    for tkn in row[2].split():\n",
    "        if tkn in tkn2idx_mincut5:\n",
    "            body.append(tkn2idx_mincut5[tkn])\n",
    "        else:\n",
    "            body.append(1)\n",
    "    bodys_para.append(body)\n",
    "    \n",
    "print n+1, ': Done'\n",
    "print datetime.datetime.now().isoformat()\n",
    "print datetime.datetime.now().isoformat()\n",
    "[np_heads_para, np_bodys_para] = fit_length([heads_para, bodys_para], 49, 170)\n",
    "print 'numpy: Done'\n",
    "print datetime.datetime.now().isoformat() # ~3 mins\n",
    "\n",
    "print datetime.datetime.now().isoformat()\n",
    "t_trainpath = 'nps/train_para_head_mincut5'\n",
    "np.save(t_trainpath, np_heads_para)\n",
    "b_trainpath = 'nps/train_para_body_mincut5'\n",
    "np.save(b_trainpath, np_bodys_para)\n",
    "l_trainpath = 'nps/train_para_label_mincut5'\n",
    "np.save(l_trainpath, labels_para)\n",
    "print 'save: Done'\n",
    "print datetime.datetime.now().isoformat()"
   ]
  },
  {
   "cell_type": "code",
   "execution_count": 4,
   "metadata": {},
   "outputs": [],
   "source": [
    "import numpy as np\n",
    "l_trainpath = np.load('nps/train_para_label_mincut5.npy')"
   ]
  },
  {
   "cell_type": "code",
   "execution_count": 5,
   "metadata": {},
   "outputs": [
    {
     "data": {
      "text/plain": [
       "(4081788,)"
      ]
     },
     "execution_count": 5,
     "metadata": {},
     "output_type": "execute_result"
    }
   ],
   "source": [
    "l_trainpath.shape"
   ]
  },
  {
   "cell_type": "code",
   "execution_count": 17,
   "metadata": {},
   "outputs": [
    {
     "name": "stdout",
     "output_type": "stream",
     "text": [
      "2017-12-30T10:45:58.397408\n",
      "10000 20000 30000 40000 50000 60000 70000 80000 90000 100000 110000 120000 130000 140000 150000 160000 170000 180000 190000 200000 210000 220000 230000 240000 250000 260000 270000 280000 290000 300000 310000 320000 330000 340000 350000 360000 370000 380000 390000 400000 410000 420000 430000 440000 450000 460000 470000 480000 490000 500000 510000 520000 530000 540000 550000 560000 570000 580000 590000 600000 610000 620000 630000 640000 650000 660000 670000 680000 690000 700000 710000 720000 730000 740000 750000 760000 770000 780000 790000 800000 810000 820000 830000 834064 Done\n",
      "2017-12-30T10:46:19.560618\n",
      "2017-12-30T10:46:19.560703\n",
      "2017-12-30T10:46:47.015257\n",
      "2017-12-30T10:46:47.015503\n",
      "2017-12-30T10:46:47.355907\n"
     ]
    }
   ],
   "source": [
    "csv_reader = csv.reader(open('version2/data_para_dev.csv', 'r'))\n",
    "\n",
    "print datetime.datetime.now().isoformat()\n",
    "ids_para_dev = []\n",
    "heads_para_dev = []\n",
    "bodys_para_dev = []\n",
    "labels_para_dev = []\n",
    "for n, row in enumerate(csv_reader):\n",
    "    if (n+1) % 10000 == 0: print n+1,\n",
    "    \n",
    "    ids_para_dev.append(row[0])\n",
    "    labels_para_dev.append(int(row[3]))\n",
    "    \n",
    "    head = []\n",
    "    for tkn in row[1].split():\n",
    "        if tkn in tkn2idx_mincut5:\n",
    "            head.append(tkn2idx_mincut5[tkn])\n",
    "        else:\n",
    "            head.append(1)\n",
    "    heads_para_dev.append(head)\n",
    "    \n",
    "    body = []\n",
    "    for tkn in row[2].split():\n",
    "        if tkn in tkn2idx_mincut5:\n",
    "            body.append(tkn2idx_mincut5[tkn])\n",
    "        else:\n",
    "            body.append(1)\n",
    "    bodys_para_dev.append(body)\n",
    "    \n",
    "print n+1, 'Done'\n",
    "print datetime.datetime.now().isoformat()\n",
    "print datetime.datetime.now().isoformat()\n",
    "[np_heads_para_dev, np_bodys_para_dev] = fit_length([heads_para_dev, bodys_para_dev], 49, 170)\n",
    "print datetime.datetime.now().isoformat() # ~3 mins\n",
    "\n",
    "print datetime.datetime.now().isoformat()\n",
    "t_trainpath = 'nps/valid_para_head_mincut5'\n",
    "np.save(t_trainpath, np_heads_para_dev)\n",
    "b_trainpath = 'nps/valid_para_body_mincut5'\n",
    "np.save(b_trainpath, np_bodys_para_dev)\n",
    "l_trainpath = 'nps/valid_para_label_mincut5'\n",
    "np.save(l_trainpath, labels_para_dev)\n",
    "print datetime.datetime.now().isoformat()"
   ]
  },
  {
   "cell_type": "markdown",
   "metadata": {},
   "source": [
    "# testset"
   ]
  },
  {
   "cell_type": "code",
   "execution_count": 18,
   "metadata": {},
   "outputs": [
    {
     "name": "stdout",
     "output_type": "stream",
     "text": [
      "2017-12-30T10:46:47.369600\n",
      "10000 20000 30000 40000 50000 60000 70000 80000 90000 100000 100000 Done\n",
      "2017-12-30T10:47:11.911809\n"
     ]
    }
   ],
   "source": [
    "csv_reader = csv.reader(open('version2/data_whole_test.csv', 'r'))\n",
    "\n",
    "print datetime.datetime.now().isoformat()\n",
    "ids_test = []\n",
    "heads_test = []\n",
    "bodys_test = []\n",
    "labels_test = []\n",
    "for n, row in enumerate(csv_reader):\n",
    "    if (n+1) % 10000 == 0: print n+1,\n",
    "    \n",
    "    ids_test.append(row[0])\n",
    "    labels_test.append(int(row[3]))\n",
    "    \n",
    "    head = []\n",
    "    for tkn in row[1].split():\n",
    "        if tkn in tkn2idx_mincut5:\n",
    "            head.append(tkn2idx_mincut5[tkn])\n",
    "        else:\n",
    "            head.append(1)\n",
    "    heads_test.append(head)\n",
    "    \n",
    "    body = []\n",
    "    for tkn in row[2].split():\n",
    "        if tkn in tkn2idx_mincut5:\n",
    "            body.append(tkn2idx_mincut5[tkn])\n",
    "        else:\n",
    "            body.append(1)\n",
    "    bodys_test.append(body)\n",
    "    \n",
    "print n+1, 'Done'\n",
    "print datetime.datetime.now().isoformat()"
   ]
  },
  {
   "cell_type": "code",
   "execution_count": 19,
   "metadata": {},
   "outputs": [
    {
     "name": "stdout",
     "output_type": "stream",
     "text": [
      "2017-12-30T10:47:11.916242\n",
      "2017-12-30T10:47:19.225545\n"
     ]
    }
   ],
   "source": [
    "print datetime.datetime.now().isoformat()\n",
    "[np_heads_test, np_bodys_test] = fit_length([heads_test, bodys_test], 49, 1200)\n",
    "print datetime.datetime.now().isoformat() # ~3 mins"
   ]
  },
  {
   "cell_type": "code",
   "execution_count": 20,
   "metadata": {},
   "outputs": [
    {
     "name": "stdout",
     "output_type": "stream",
     "text": [
      "2017-12-30T10:47:19.237108\n",
      "2017-12-30T10:47:19.522220\n"
     ]
    }
   ],
   "source": [
    "print datetime.datetime.now().isoformat()\n",
    "t_trainpath = 'nps/test_whole_head_mincut5'\n",
    "np.save(t_trainpath, np_heads_test)\n",
    "b_trainpath = 'nps/test_whole_body_mincut5'\n",
    "np.save(b_trainpath, np_bodys_test)\n",
    "l_trainpath = 'nps/test_whole_label_mincut5'\n",
    "np.save(l_trainpath, labels_test)\n",
    "print datetime.datetime.now().isoformat()"
   ]
  },
  {
   "cell_type": "code",
   "execution_count": null,
   "metadata": {
    "collapsed": true
   },
   "outputs": [],
   "source": []
  },
  {
   "cell_type": "code",
   "execution_count": null,
   "metadata": {
    "collapsed": true
   },
   "outputs": [],
   "source": []
  },
  {
   "cell_type": "code",
   "execution_count": null,
   "metadata": {
    "collapsed": true
   },
   "outputs": [],
   "source": []
  },
  {
   "cell_type": "markdown",
   "metadata": {},
   "source": [
    "# test stats."
   ]
  },
  {
   "cell_type": "code",
   "execution_count": 22,
   "metadata": {},
   "outputs": [
    {
     "name": "stdout",
     "output_type": "stream",
     "text": [
      "2017-12-29T18:45:21.058702\n",
      "100000 100000 Done\n",
      "2017-12-29T18:45:31.269345\n"
     ]
    }
   ],
   "source": [
    "csv_reader = csv.reader(open('version2/data_whole_test.csv', 'r'))\n",
    "\n",
    "len_heads_test = [] #1\n",
    "len_paras_test = [] #2\n",
    "cnt_paras_test = [] #3\n",
    "len_bodys_test = [] #4\n",
    "\n",
    "labels_test = []\n",
    "print datetime.datetime.now().isoformat()\n",
    "for n, row in enumerate(csv_reader):\n",
    "    if (n+1) % 100000 == 0: print n+1,\n",
    "        \n",
    "    labels_test.append(int(row[3]))\n",
    "    \n",
    "    head = row[1]\n",
    "    len_heads_test.append(len(head.split())) #1\n",
    "    \n",
    "    body = row[2]\n",
    "    tkn_para = []\n",
    "    for para in body.split('<EOP>'):\n",
    "        if para and para != ' ':\n",
    "            _para = para + '<EOP>'\n",
    "            len_para = len(_para.split())\n",
    "            len_paras_test.append(len_para) #2\n",
    "            tkn_para.append(_para)\n",
    "    cnt_paras_test.append(len(tkn_para)) #3\n",
    "    \n",
    "    body_split = body.split()\n",
    "    len_bodys_test.append(len(body_split)) #4\n",
    "            \n",
    "print n+1, 'Done'\n",
    "print datetime.datetime.now().isoformat()"
   ]
  },
  {
   "cell_type": "code",
   "execution_count": 23,
   "metadata": {},
   "outputs": [
    {
     "name": "stdout",
     "output_type": "stream",
     "text": [
      "0\n",
      "38 3 13.55746 3.13595573126\n",
      "100000 100000 1.0\n"
     ]
    }
   ],
   "source": [
    "#1\n",
    "len_titles = np.array(len_heads_test)\n",
    "print len_titles.tolist().count(1)\n",
    "print np.max(len_titles), np.min(len_titles), np.mean(len_titles), np.std(len_titles)\n",
    "len_t = len(len_titles)\n",
    "cnt_t = sum(len_titles <= 49)\n",
    "print cnt_t, len_t, cnt_t*1.0/len_t"
   ]
  },
  {
   "cell_type": "code",
   "execution_count": 27,
   "metadata": {},
   "outputs": [
    {
     "name": "stdout",
     "output_type": "stream",
     "text": [
      "0\n",
      "4127 3 82.7307296744 121.078232278\n",
      "892558 968432 0.921652733491\n"
     ]
    }
   ],
   "source": [
    "#2\n",
    "len_paras = np.array(len_paras_test)\n",
    "print len_paras.tolist().count(1)\n",
    "print np.max(len_paras), np.min(len_paras), np.mean(len_paras), np.std(len_paras)\n",
    "len_p = len(len_paras)\n",
    "cnt_p = sum(len_paras <= 170)\n",
    "print cnt_p, len_p, cnt_p*1.0/len_p"
   ]
  },
  {
   "cell_type": "code",
   "execution_count": 25,
   "metadata": {},
   "outputs": [
    {
     "name": "stdout",
     "output_type": "stream",
     "text": [
      "7132\n",
      "104 1 9.68432 7.30949698253 9.0\n",
      "92534 100000 0.92534\n"
     ]
    }
   ],
   "source": [
    "#3\n",
    "cnt_para = np.array(cnt_paras_test)\n",
    "print cnt_para.tolist().count(1)\n",
    "print np.max(cnt_para), np.min(cnt_para), np.mean(cnt_para), np.std(cnt_para), np.median(cnt_para)\n",
    "len_cp = len(cnt_para)\n",
    "cnt_cp = sum(cnt_para <= 20)\n",
    "print cnt_cp, len_cp, cnt_cp*1.0/len_cp"
   ]
  },
  {
   "cell_type": "code",
   "execution_count": 28,
   "metadata": {},
   "outputs": [
    {
     "name": "stdout",
     "output_type": "stream",
     "text": [
      "0\n",
      "5208 403 801.19086 313.270892795\n",
      "90124 100000 0.90124\n"
     ]
    }
   ],
   "source": [
    "#4\n",
    "len_bodys = np.array(len_bodys_test)\n",
    "print len_bodys.tolist().count(2)\n",
    "print np.max(len_bodys), np.min(len_bodys), np.mean(len_bodys), np.std(len_bodys)\n",
    "len_b = len(len_bodys)\n",
    "cnt_b = sum(len_bodys <= 1200)\n",
    "print cnt_b, len_b, cnt_b*1.0/len_b"
   ]
  },
  {
   "cell_type": "code",
   "execution_count": 57,
   "metadata": {},
   "outputs": [
    {
     "data": {
      "text/plain": [
       "(array([  0.00000000e+00,   0.00000000e+00,   0.00000000e+00,\n",
       "          0.00000000e+00,   3.08000000e+02,   0.00000000e+00,\n",
       "          9.15000000e+02,   0.00000000e+00,   5.29000000e+02,\n",
       "          0.00000000e+00,   6.51000000e+02,   0.00000000e+00,\n",
       "          6.94000000e+02,   0.00000000e+00,   1.41300000e+03,\n",
       "          0.00000000e+00,   2.64000000e+03,   0.00000000e+00,\n",
       "          2.94600000e+03,   0.00000000e+00,   2.64700000e+03,\n",
       "          0.00000000e+00,   2.76400000e+03,   0.00000000e+00,\n",
       "          2.91400000e+03,   0.00000000e+00,   3.23700000e+03,\n",
       "          0.00000000e+00,   3.72500000e+03,   0.00000000e+00,\n",
       "          4.28300000e+03,   0.00000000e+00,   4.86300000e+03,\n",
       "          0.00000000e+00,   5.38000000e+03,   0.00000000e+00,\n",
       "          6.25800000e+03,   0.00000000e+00,   6.73800000e+03,\n",
       "          0.00000000e+00,   7.40700000e+03,   0.00000000e+00,\n",
       "          8.14300000e+03,   0.00000000e+00,   8.76500000e+03,\n",
       "          0.00000000e+00,   9.17000000e+03,   0.00000000e+00,\n",
       "          1.03170000e+04,   0.00000000e+00,   1.03660000e+04,\n",
       "          0.00000000e+00,   1.08050000e+04,   0.00000000e+00,\n",
       "          1.11740000e+04,   0.00000000e+00,   1.13380000e+04,\n",
       "          0.00000000e+00,   1.17050000e+04,   0.00000000e+00,\n",
       "          1.20890000e+04,   0.00000000e+00,   1.34240000e+04,\n",
       "          0.00000000e+00,   1.24660000e+04,   0.00000000e+00,\n",
       "          1.26590000e+04,   0.00000000e+00,   1.26800000e+04,\n",
       "          0.00000000e+00,   1.26140000e+04,   0.00000000e+00,\n",
       "          1.26890000e+04,   0.00000000e+00,   1.23810000e+04,\n",
       "          0.00000000e+00,   1.25760000e+04,   0.00000000e+00,\n",
       "          1.22230000e+04,   0.00000000e+00,   1.21480000e+04,\n",
       "          0.00000000e+00,   1.22130000e+04,   0.00000000e+00,\n",
       "          1.19660000e+04,   0.00000000e+00,   1.17870000e+04,\n",
       "          0.00000000e+00,   1.15730000e+04,   0.00000000e+00,\n",
       "          1.13800000e+04,   0.00000000e+00,   1.12500000e+04,\n",
       "          0.00000000e+00,   1.09690000e+04,   0.00000000e+00,\n",
       "          1.05030000e+04,   0.00000000e+00,   1.03250000e+04,\n",
       "          0.00000000e+00,   1.01820000e+04,   0.00000000e+00,\n",
       "          9.83600000e+03,   0.00000000e+00,   9.84400000e+03,\n",
       "          0.00000000e+00,   9.51900000e+03,   0.00000000e+00,\n",
       "          9.14500000e+03,   0.00000000e+00,   8.90500000e+03,\n",
       "          0.00000000e+00,   8.62100000e+03,   0.00000000e+00,\n",
       "          8.66800000e+03,   0.00000000e+00,   8.10900000e+03,\n",
       "          0.00000000e+00,   7.84100000e+03,   0.00000000e+00,\n",
       "          7.78800000e+03,   0.00000000e+00,   7.45200000e+03,\n",
       "          0.00000000e+00,   7.14000000e+03,   0.00000000e+00,\n",
       "          6.98800000e+03,   0.00000000e+00,   6.71600000e+03,\n",
       "          0.00000000e+00,   6.52800000e+03,   0.00000000e+00,\n",
       "          6.09200000e+03,   0.00000000e+00,   6.11100000e+03,\n",
       "          0.00000000e+00,   5.72300000e+03,   0.00000000e+00,\n",
       "          5.41700000e+03,   0.00000000e+00,   5.32700000e+03,\n",
       "          0.00000000e+00,   5.12600000e+03,   0.00000000e+00,\n",
       "          5.03600000e+03,   0.00000000e+00,   4.81900000e+03,\n",
       "          0.00000000e+00,   4.41600000e+03,   0.00000000e+00,\n",
       "          4.34400000e+03,   0.00000000e+00,   4.27500000e+03,\n",
       "          0.00000000e+00,   4.08000000e+03,   0.00000000e+00,\n",
       "          3.85300000e+03,   0.00000000e+00,   3.62600000e+03,\n",
       "          0.00000000e+00,   3.64200000e+03,   0.00000000e+00,\n",
       "          3.37400000e+03,   0.00000000e+00,   3.29700000e+03,\n",
       "          0.00000000e+00,   3.01400000e+03,   0.00000000e+00,\n",
       "          3.06100000e+03,   0.00000000e+00,   3.01500000e+03,\n",
       "          0.00000000e+00,   2.84800000e+03,   0.00000000e+00,\n",
       "          2.77100000e+03,   0.00000000e+00,   2.67200000e+03,\n",
       "          0.00000000e+00,   2.53200000e+03,   0.00000000e+00,\n",
       "          2.48800000e+03,   0.00000000e+00,   2.36700000e+03,\n",
       "          0.00000000e+00,   2.26500000e+03,   0.00000000e+00,\n",
       "          2.16200000e+03,   0.00000000e+00,   2.18300000e+03,\n",
       "          0.00000000e+00,   2.12700000e+03,   0.00000000e+00,\n",
       "          2.00700000e+03,   0.00000000e+00,   1.88200000e+03,\n",
       "          0.00000000e+00,   1.83000000e+03,   0.00000000e+00,\n",
       "          1.81400000e+03,   0.00000000e+00,   1.76200000e+03,\n",
       "          0.00000000e+00,   1.64200000e+03,   0.00000000e+00,\n",
       "          1.61100000e+03,   0.00000000e+00,   1.57700000e+03,\n",
       "          0.00000000e+00,   1.51200000e+03,   0.00000000e+00,\n",
       "          1.39100000e+03,   0.00000000e+00,   1.40500000e+03,\n",
       "          0.00000000e+00,   1.33300000e+03,   0.00000000e+00,\n",
       "          1.23300000e+03,   0.00000000e+00,   1.21700000e+03,\n",
       "          0.00000000e+00,   1.15700000e+03,   0.00000000e+00,\n",
       "          1.14700000e+03,   0.00000000e+00,   1.16400000e+03,\n",
       "          0.00000000e+00,   1.13100000e+03,   0.00000000e+00,\n",
       "          1.10700000e+03,   0.00000000e+00,   1.01100000e+03,\n",
       "          0.00000000e+00,   9.82000000e+02,   0.00000000e+00,\n",
       "          9.24000000e+02,   0.00000000e+00,   9.16000000e+02,\n",
       "          0.00000000e+00,   9.13000000e+02,   0.00000000e+00,\n",
       "          9.02000000e+02,   0.00000000e+00,   8.81000000e+02,\n",
       "          0.00000000e+00,   8.69000000e+02,   0.00000000e+00,\n",
       "          7.90000000e+02,   0.00000000e+00,   7.18000000e+02,\n",
       "          0.00000000e+00,   7.81000000e+02,   0.00000000e+00,\n",
       "          8.10000000e+02,   0.00000000e+00,   7.15000000e+02,\n",
       "          0.00000000e+00,   6.70000000e+02,   0.00000000e+00,\n",
       "          6.47000000e+02,   0.00000000e+00,   6.30000000e+02,\n",
       "          0.00000000e+00,   6.34000000e+02,   0.00000000e+00,\n",
       "          7.18000000e+02,   0.00000000e+00,   5.63000000e+02,\n",
       "          0.00000000e+00,   5.97000000e+02,   0.00000000e+00,\n",
       "          5.77000000e+02,   0.00000000e+00,   5.82000000e+02,\n",
       "          0.00000000e+00,   5.53000000e+02,   0.00000000e+00,\n",
       "          5.68000000e+02,   0.00000000e+00,   4.69000000e+02,\n",
       "          0.00000000e+00,   4.83000000e+02,   0.00000000e+00,\n",
       "          4.83000000e+02,   0.00000000e+00,   4.81000000e+02,\n",
       "          0.00000000e+00,   4.96000000e+02,   0.00000000e+00,\n",
       "          4.65000000e+02,   0.00000000e+00,   4.47000000e+02,\n",
       "          0.00000000e+00,   4.34000000e+02,   0.00000000e+00,\n",
       "          4.14000000e+02,   0.00000000e+00,   4.47000000e+02,\n",
       "          0.00000000e+00,   4.18000000e+02,   0.00000000e+00,\n",
       "          3.85000000e+02,   0.00000000e+00,   3.76000000e+02,\n",
       "          0.00000000e+00,   3.62000000e+02,   0.00000000e+00,\n",
       "          3.81000000e+02,   0.00000000e+00,   3.44000000e+02,\n",
       "          0.00000000e+00,   3.31000000e+02,   0.00000000e+00,\n",
       "          3.51000000e+02,   0.00000000e+00,   3.44000000e+02,\n",
       "          0.00000000e+00,   3.05000000e+02,   0.00000000e+00,\n",
       "          3.27000000e+02,   0.00000000e+00,   2.93000000e+02,\n",
       "          0.00000000e+00,   3.23000000e+02,   0.00000000e+00,\n",
       "          3.01000000e+02,   0.00000000e+00,   2.61000000e+02,\n",
       "          0.00000000e+00,   3.15000000e+02,   0.00000000e+00,\n",
       "          2.95000000e+02,   0.00000000e+00,   2.49000000e+02,\n",
       "          0.00000000e+00,   2.69000000e+02,   0.00000000e+00,\n",
       "          2.85000000e+02,   0.00000000e+00,   2.36000000e+02,\n",
       "          0.00000000e+00,   2.40000000e+02,   0.00000000e+00,\n",
       "          2.46000000e+02,   0.00000000e+00,   2.53000000e+02,\n",
       "          0.00000000e+00,   2.33000000e+02,   0.00000000e+00,\n",
       "          2.55000000e+02,   0.00000000e+00,   2.20000000e+02,\n",
       "          0.00000000e+00,   2.22000000e+02,   0.00000000e+00,\n",
       "          2.31000000e+02,   0.00000000e+00,   2.15000000e+02,\n",
       "          0.00000000e+00,   2.05000000e+02,   0.00000000e+00,\n",
       "          1.88000000e+02,   0.00000000e+00,   1.83000000e+02,\n",
       "          0.00000000e+00,   1.82000000e+02,   0.00000000e+00,\n",
       "          1.87000000e+02,   0.00000000e+00,   1.61000000e+02,\n",
       "          0.00000000e+00,   1.72000000e+02,   0.00000000e+00,\n",
       "          1.91000000e+02,   0.00000000e+00,   1.64000000e+02,\n",
       "          0.00000000e+00,   2.02000000e+02,   0.00000000e+00,\n",
       "          1.69000000e+02,   0.00000000e+00,   1.76000000e+02,\n",
       "          0.00000000e+00,   1.81000000e+02,   0.00000000e+00,\n",
       "          1.63000000e+02,   0.00000000e+00,   1.64000000e+02,\n",
       "          0.00000000e+00,   1.43000000e+02,   0.00000000e+00,\n",
       "          1.66000000e+02,   0.00000000e+00,   1.74000000e+02,\n",
       "          0.00000000e+00,   1.43000000e+02,   0.00000000e+00,\n",
       "          1.44000000e+02,   0.00000000e+00,   1.53000000e+02,\n",
       "          0.00000000e+00,   1.14000000e+02,   0.00000000e+00,\n",
       "          1.43000000e+02,   0.00000000e+00,   1.19000000e+02,\n",
       "          0.00000000e+00,   1.44000000e+02,   0.00000000e+00,\n",
       "          1.28000000e+02,   0.00000000e+00,   1.40000000e+02,\n",
       "          0.00000000e+00,   1.29000000e+02,   0.00000000e+00,\n",
       "          1.32000000e+02,   0.00000000e+00,   1.62000000e+02,\n",
       "          0.00000000e+00,   1.16000000e+02,   0.00000000e+00,\n",
       "          1.28000000e+02,   0.00000000e+00,   1.33000000e+02,\n",
       "          0.00000000e+00,   1.17000000e+02,   0.00000000e+00,\n",
       "          1.24000000e+02,   0.00000000e+00,   1.24000000e+02,\n",
       "          0.00000000e+00,   1.21000000e+02,   0.00000000e+00,\n",
       "          1.27000000e+02,   0.00000000e+00,   1.17000000e+02,\n",
       "          0.00000000e+00,   1.13000000e+02,   0.00000000e+00,\n",
       "          1.01000000e+02,   0.00000000e+00,   1.09000000e+02,\n",
       "          0.00000000e+00,   9.50000000e+01,   0.00000000e+00,\n",
       "          1.13000000e+02,   0.00000000e+00,   9.80000000e+01,\n",
       "          0.00000000e+00,   1.14000000e+02,   0.00000000e+00,\n",
       "          9.10000000e+01,   0.00000000e+00,   9.70000000e+01,\n",
       "          0.00000000e+00,   1.05000000e+02,   0.00000000e+00,\n",
       "          9.60000000e+01,   0.00000000e+00,   1.00000000e+02,\n",
       "          0.00000000e+00,   9.80000000e+01,   0.00000000e+00,\n",
       "          1.10000000e+02,   0.00000000e+00,   7.90000000e+01,\n",
       "          0.00000000e+00,   1.06000000e+02,   0.00000000e+00,\n",
       "          1.04000000e+02,   0.00000000e+00,   8.50000000e+01,\n",
       "          0.00000000e+00,   8.80000000e+01,   0.00000000e+00,\n",
       "          1.10000000e+02,   0.00000000e+00,   8.70000000e+01,\n",
       "          0.00000000e+00,   9.20000000e+01,   0.00000000e+00,\n",
       "          8.30000000e+01,   0.00000000e+00,   8.30000000e+01,\n",
       "          0.00000000e+00,   8.10000000e+01,   0.00000000e+00,\n",
       "          6.80000000e+01,   0.00000000e+00,   8.30000000e+01,\n",
       "          0.00000000e+00,   7.40000000e+01,   0.00000000e+00,\n",
       "          7.80000000e+01,   0.00000000e+00,   8.40000000e+01,\n",
       "          0.00000000e+00,   8.30000000e+01,   0.00000000e+00,\n",
       "          8.00000000e+01,   0.00000000e+00,   8.50000000e+01,\n",
       "          0.00000000e+00,   8.60000000e+01,   0.00000000e+00,\n",
       "          1.00000000e+02,   0.00000000e+00,   8.30000000e+01,\n",
       "          0.00000000e+00,   6.00000000e+01,   0.00000000e+00,\n",
       "          6.30000000e+01,   0.00000000e+00,   7.50000000e+01,\n",
       "          0.00000000e+00,   7.40000000e+01,   0.00000000e+00,\n",
       "          7.50000000e+01,   0.00000000e+00,   5.90000000e+01,\n",
       "          0.00000000e+00,   7.10000000e+01,   0.00000000e+00,\n",
       "          5.90000000e+01,   0.00000000e+00,   7.40000000e+01,\n",
       "          0.00000000e+00,   7.10000000e+01,   0.00000000e+00,\n",
       "          6.70000000e+01,   0.00000000e+00,   6.80000000e+01,\n",
       "          0.00000000e+00,   6.80000000e+01,   0.00000000e+00,\n",
       "          6.90000000e+01,   0.00000000e+00,   6.70000000e+01,\n",
       "          0.00000000e+00,   7.00000000e+01,   0.00000000e+00,\n",
       "          6.70000000e+01,   0.00000000e+00,   6.20000000e+01,\n",
       "          0.00000000e+00,   5.90000000e+01,   0.00000000e+00,\n",
       "          6.80000000e+01,   0.00000000e+00,   5.30000000e+01,\n",
       "          0.00000000e+00,   7.10000000e+01,   0.00000000e+00,\n",
       "          6.60000000e+01,   0.00000000e+00,   6.00000000e+01,\n",
       "          0.00000000e+00,   7.20000000e+01,   0.00000000e+00,\n",
       "          4.50000000e+01,   0.00000000e+00,   4.30000000e+01,\n",
       "          0.00000000e+00,   5.30000000e+01,   0.00000000e+00,\n",
       "          5.80000000e+01,   0.00000000e+00,   7.00000000e+01,\n",
       "          0.00000000e+00,   5.90000000e+01,   0.00000000e+00,\n",
       "          6.00000000e+01,   0.00000000e+00,   5.50000000e+01,\n",
       "          0.00000000e+00,   4.70000000e+01,   0.00000000e+00,\n",
       "          5.80000000e+01,   0.00000000e+00,   5.40000000e+01,\n",
       "          0.00000000e+00,   5.60000000e+01,   0.00000000e+00,\n",
       "          4.40000000e+01,   0.00000000e+00,   4.30000000e+01,\n",
       "          0.00000000e+00,   4.30000000e+01,   0.00000000e+00,\n",
       "          4.90000000e+01,   0.00000000e+00,   4.30000000e+01,\n",
       "          0.00000000e+00,   5.10000000e+01,   0.00000000e+00,\n",
       "          5.50000000e+01,   0.00000000e+00,   5.10000000e+01,\n",
       "          0.00000000e+00,   3.70000000e+01,   0.00000000e+00,\n",
       "          4.20000000e+01,   0.00000000e+00,   4.70000000e+01,\n",
       "          0.00000000e+00,   4.40000000e+01,   0.00000000e+00,\n",
       "          5.50000000e+01,   0.00000000e+00,   5.20000000e+01,\n",
       "          0.00000000e+00,   4.80000000e+01,   0.00000000e+00,\n",
       "          5.70000000e+01,   0.00000000e+00,   5.00000000e+01,\n",
       "          0.00000000e+00,   4.10000000e+01,   0.00000000e+00,\n",
       "          4.40000000e+01,   0.00000000e+00,   4.20000000e+01,\n",
       "          0.00000000e+00,   4.20000000e+01,   0.00000000e+00,\n",
       "          4.30000000e+01,   0.00000000e+00,   4.10000000e+01,\n",
       "          0.00000000e+00,   2.90000000e+01,   0.00000000e+00,\n",
       "          5.20000000e+01,   0.00000000e+00,   3.70000000e+01,\n",
       "          0.00000000e+00,   5.00000000e+01,   0.00000000e+00,\n",
       "          3.70000000e+01,   0.00000000e+00,   3.60000000e+01,\n",
       "          0.00000000e+00,   5.70000000e+01,   0.00000000e+00,\n",
       "          3.60000000e+01,   0.00000000e+00,   4.60000000e+01,\n",
       "          0.00000000e+00,   4.10000000e+01,   0.00000000e+00,\n",
       "          3.20000000e+01,   0.00000000e+00,   4.00000000e+01,\n",
       "          0.00000000e+00,   4.90000000e+01,   0.00000000e+00,\n",
       "          3.80000000e+01,   0.00000000e+00,   3.20000000e+01,\n",
       "          0.00000000e+00,   3.80000000e+01,   0.00000000e+00,\n",
       "          3.90000000e+01,   0.00000000e+00,   2.70000000e+01,\n",
       "          0.00000000e+00,   4.30000000e+01,   0.00000000e+00,\n",
       "          4.20000000e+01,   0.00000000e+00,   4.40000000e+01,\n",
       "          0.00000000e+00,   3.30000000e+01,   0.00000000e+00,\n",
       "          4.20000000e+01,   0.00000000e+00,   4.60000000e+01,\n",
       "          0.00000000e+00,   4.00000000e+01,   0.00000000e+00,\n",
       "          3.00000000e+01,   0.00000000e+00,   3.90000000e+01,\n",
       "          0.00000000e+00,   3.60000000e+01,   0.00000000e+00,\n",
       "          3.40000000e+01,   0.00000000e+00,   4.00000000e+01,\n",
       "          0.00000000e+00,   3.80000000e+01,   0.00000000e+00,\n",
       "          3.60000000e+01,   0.00000000e+00,   5.00000000e+01,\n",
       "          0.00000000e+00,   3.90000000e+01,   0.00000000e+00,\n",
       "          2.50000000e+01,   0.00000000e+00,   4.40000000e+01,\n",
       "          0.00000000e+00,   3.00000000e+01,   0.00000000e+00,\n",
       "          3.10000000e+01,   0.00000000e+00,   3.40000000e+01,\n",
       "          0.00000000e+00,   3.80000000e+01,   0.00000000e+00,\n",
       "          2.80000000e+01,   0.00000000e+00,   4.10000000e+01,\n",
       "          0.00000000e+00,   3.40000000e+01,   0.00000000e+00,\n",
       "          3.30000000e+01,   0.00000000e+00,   3.80000000e+01,\n",
       "          0.00000000e+00,   3.10000000e+01,   0.00000000e+00,\n",
       "          2.30000000e+01,   0.00000000e+00,   3.40000000e+01,\n",
       "          0.00000000e+00,   2.70000000e+01,   0.00000000e+00,\n",
       "          3.80000000e+01,   0.00000000e+00,   3.20000000e+01,\n",
       "          0.00000000e+00,   3.00000000e+01,   0.00000000e+00,\n",
       "          3.80000000e+01,   0.00000000e+00,   3.20000000e+01,\n",
       "          0.00000000e+00,   2.80000000e+01,   0.00000000e+00,\n",
       "          3.80000000e+01,   0.00000000e+00,   3.10000000e+01,\n",
       "          0.00000000e+00,   3.30000000e+01,   0.00000000e+00,\n",
       "          3.20000000e+01,   0.00000000e+00,   4.50000000e+01,\n",
       "          0.00000000e+00,   2.90000000e+01,   0.00000000e+00,\n",
       "          3.10000000e+01,   0.00000000e+00,   2.60000000e+01,\n",
       "          0.00000000e+00,   3.10000000e+01,   0.00000000e+00,\n",
       "          2.60000000e+01,   0.00000000e+00,   3.20000000e+01,\n",
       "          0.00000000e+00,   3.70000000e+01,   0.00000000e+00,\n",
       "          2.40000000e+01,   0.00000000e+00,   3.60000000e+01,\n",
       "          0.00000000e+00,   3.60000000e+01,   0.00000000e+00,\n",
       "          3.10000000e+01,   0.00000000e+00,   3.00000000e+01,\n",
       "          0.00000000e+00,   3.00000000e+01,   0.00000000e+00,\n",
       "          3.50000000e+01,   0.00000000e+00,   2.80000000e+01,\n",
       "          0.00000000e+00,   2.50000000e+01,   0.00000000e+00,\n",
       "          1.80000000e+01,   0.00000000e+00,   2.60000000e+01,\n",
       "          0.00000000e+00,   2.60000000e+01,   0.00000000e+00,\n",
       "          2.70000000e+01,   0.00000000e+00,   3.10000000e+01,\n",
       "          0.00000000e+00,   2.40000000e+01,   0.00000000e+00,\n",
       "          3.40000000e+01,   0.00000000e+00,   3.50000000e+01,\n",
       "          0.00000000e+00,   2.60000000e+01,   0.00000000e+00,\n",
       "          2.20000000e+01,   0.00000000e+00,   1.50000000e+01,\n",
       "          0.00000000e+00,   2.50000000e+01,   0.00000000e+00,\n",
       "          2.40000000e+01,   0.00000000e+00,   2.60000000e+01,\n",
       "          0.00000000e+00,   2.40000000e+01,   0.00000000e+00,\n",
       "          2.90000000e+01,   0.00000000e+00,   2.30000000e+01,\n",
       "          0.00000000e+00,   3.00000000e+01,   0.00000000e+00,\n",
       "          2.30000000e+01,   0.00000000e+00,   1.70000000e+01,\n",
       "          0.00000000e+00,   3.10000000e+01,   0.00000000e+00,\n",
       "          3.00000000e+01,   0.00000000e+00,   2.30000000e+01,\n",
       "          0.00000000e+00,   2.90000000e+01,   0.00000000e+00,\n",
       "          2.90000000e+01,   0.00000000e+00,   2.50000000e+01,\n",
       "          0.00000000e+00,   3.10000000e+01,   0.00000000e+00,\n",
       "          2.70000000e+01,   0.00000000e+00,   2.10000000e+01,\n",
       "          0.00000000e+00,   2.00000000e+01,   0.00000000e+00,\n",
       "          2.40000000e+01,   0.00000000e+00,   2.80000000e+01,\n",
       "          0.00000000e+00,   3.00000000e+01,   0.00000000e+00,\n",
       "          2.40000000e+01,   0.00000000e+00,   2.00000000e+01,\n",
       "          0.00000000e+00,   2.20000000e+01,   0.00000000e+00,\n",
       "          2.70000000e+01,   0.00000000e+00,   2.70000000e+01,\n",
       "          0.00000000e+00,   2.50000000e+01,   0.00000000e+00,\n",
       "          3.20000000e+01,   0.00000000e+00,   1.70000000e+01,\n",
       "          0.00000000e+00,   1.70000000e+01,   0.00000000e+00,\n",
       "          1.50000000e+01,   0.00000000e+00,   2.30000000e+01,\n",
       "          0.00000000e+00,   2.00000000e+01,   0.00000000e+00,\n",
       "          2.80000000e+01,   0.00000000e+00,   1.90000000e+01,\n",
       "          0.00000000e+00,   3.10000000e+01,   0.00000000e+00,\n",
       "          2.10000000e+01,   0.00000000e+00,   2.90000000e+01,\n",
       "          0.00000000e+00,   1.90000000e+01,   0.00000000e+00,\n",
       "          2.20000000e+01,   0.00000000e+00,   2.30000000e+01,\n",
       "          0.00000000e+00,   2.40000000e+01,   0.00000000e+00,\n",
       "          1.70000000e+01,   0.00000000e+00,   2.00000000e+01,\n",
       "          0.00000000e+00,   2.30000000e+01,   0.00000000e+00,\n",
       "          2.20000000e+01,   0.00000000e+00,   3.20000000e+01,\n",
       "          0.00000000e+00,   2.40000000e+01,   0.00000000e+00,\n",
       "          2.20000000e+01,   0.00000000e+00,   2.60000000e+01,\n",
       "          0.00000000e+00,   2.20000000e+01,   0.00000000e+00,\n",
       "          2.10000000e+01,   0.00000000e+00,   2.60000000e+01,\n",
       "          0.00000000e+00,   1.80000000e+01,   0.00000000e+00,\n",
       "          1.70000000e+01,   0.00000000e+00,   1.60000000e+01,\n",
       "          0.00000000e+00,   2.00000000e+01,   0.00000000e+00,\n",
       "          2.20000000e+01,   0.00000000e+00,   1.40000000e+01,\n",
       "          0.00000000e+00,   2.40000000e+01,   0.00000000e+00,\n",
       "          1.70000000e+01,   0.00000000e+00,   2.10000000e+01,\n",
       "          0.00000000e+00,   2.90000000e+01,   0.00000000e+00,\n",
       "          2.40000000e+01,   0.00000000e+00,   2.40000000e+01,\n",
       "          0.00000000e+00,   2.30000000e+01,   0.00000000e+00,\n",
       "          2.10000000e+01,   0.00000000e+00,   2.00000000e+01,\n",
       "          0.00000000e+00,   2.20000000e+01,   0.00000000e+00,\n",
       "          1.90000000e+01,   0.00000000e+00,   1.80000000e+01,\n",
       "          0.00000000e+00,   2.50000000e+01,   0.00000000e+00,\n",
       "          2.60000000e+01,   0.00000000e+00,   1.90000000e+01,\n",
       "          0.00000000e+00,   1.90000000e+01,   0.00000000e+00,\n",
       "          2.70000000e+01,   0.00000000e+00,   2.40000000e+01,\n",
       "          0.00000000e+00,   2.00000000e+01,   0.00000000e+00,\n",
       "          2.10000000e+01,   0.00000000e+00,   1.40000000e+01,\n",
       "          0.00000000e+00,   1.90000000e+01,   0.00000000e+00,\n",
       "          2.10000000e+01,   0.00000000e+00,   2.20000000e+01,\n",
       "          0.00000000e+00,   2.80000000e+01,   0.00000000e+00,\n",
       "          1.40000000e+01,   0.00000000e+00,   2.20000000e+01,\n",
       "          0.00000000e+00,   2.40000000e+01,   0.00000000e+00,\n",
       "          1.50000000e+01,   0.00000000e+00,   2.10000000e+01,\n",
       "          0.00000000e+00,   2.50000000e+01,   0.00000000e+00,\n",
       "          1.50000000e+01,   0.00000000e+00,   1.60000000e+01,\n",
       "          0.00000000e+00,   2.10000000e+01,   0.00000000e+00,\n",
       "          2.10000000e+01,   0.00000000e+00,   2.10000000e+01,\n",
       "          0.00000000e+00,   1.70000000e+01,   0.00000000e+00,\n",
       "          2.10000000e+01,   0.00000000e+00,   1.10000000e+01,\n",
       "          3.10000000e+01]),\n",
       " array([   0. ,    0.5,    1. , ...,  499. ,  499.5,  500. ]),\n",
       " <a list of 1000 Patch objects>)"
      ]
     },
     "execution_count": 57,
     "metadata": {},
     "output_type": "execute_result"
    },
    {
     "data": {
      "image/png": "[encoded data removed]",
      "text/plain": [
       "<matplotlib.figure.Figure at 0x7fdc278f70d0>"
      ]
     },
     "metadata": {},
     "output_type": "display_data"
    }
   ],
   "source": [
    "plt.figure(1)\n",
    "plt.hist(len_paras, range=[0, 500], normed=False, bins=500)"
   ]
  },
  {
   "cell_type": "code",
   "execution_count": null,
   "metadata": {
    "collapsed": true
   },
   "outputs": [],
   "source": []
  },
  {
   "cell_type": "code",
   "execution_count": 17,
   "metadata": {},
   "outputs": [
    {
     "name": "stdout",
     "output_type": "stream",
     "text": [
      "2017-12-27T17:06:43.990426\n",
      "100000 200000 300000 400000 500000"
     ]
    },
    {
     "ename": "KeyboardInterrupt",
     "evalue": "",
     "output_type": "error",
     "traceback": [
      "\u001b[0;31m\u001b[0m",
      "\u001b[0;31mKeyboardInterrupt\u001b[0mTraceback (most recent call last)",
      "\u001b[0;32m<ipython-input-17-1fafd8b26e1a>\u001b[0m in \u001b[0;36m<module>\u001b[0;34m()\u001b[0m\n\u001b[1;32m     14\u001b[0m     \u001b[0mdoc\u001b[0m \u001b[0;34m=\u001b[0m \u001b[0;34m' '\u001b[0m\u001b[0;34m.\u001b[0m\u001b[0mjoin\u001b[0m\u001b[0;34m(\u001b[0m\u001b[0;34m[\u001b[0m\u001b[0mhead\u001b[0m\u001b[0;34m,\u001b[0m \u001b[0mbody\u001b[0m\u001b[0;34m]\u001b[0m\u001b[0;34m)\u001b[0m\u001b[0;34m\u001b[0m\u001b[0m\n\u001b[1;32m     15\u001b[0m     \u001b[0;32mfor\u001b[0m \u001b[0mtkn\u001b[0m \u001b[0;32min\u001b[0m \u001b[0mdoc\u001b[0m\u001b[0;34m.\u001b[0m\u001b[0msplit\u001b[0m\u001b[0;34m(\u001b[0m\u001b[0;34m)\u001b[0m\u001b[0;34m:\u001b[0m\u001b[0;34m\u001b[0m\u001b[0m\n\u001b[0;32m---> 16\u001b[0;31m         \u001b[0;32mif\u001b[0m \u001b[0mtkn\u001b[0m \u001b[0;32min\u001b[0m \u001b[0mtmp_tkn\u001b[0m\u001b[0;34m:\u001b[0m\u001b[0;34m\u001b[0m\u001b[0m\n\u001b[0m\u001b[1;32m     17\u001b[0m             \u001b[0;32mcontinue\u001b[0m\u001b[0;34m\u001b[0m\u001b[0m\n\u001b[1;32m     18\u001b[0m         \u001b[0;32melse\u001b[0m\u001b[0;34m:\u001b[0m\u001b[0;34m\u001b[0m\u001b[0m\n",
      "\u001b[0;31mKeyboardInterrupt\u001b[0m: "
     ]
    }
   ],
   "source": [
    "tkn2df = {}\n",
    "for tkn in tkn2tf.keys():\n",
    "    tkn2df[tkn] = 0\n",
    "    \n",
    "csv_reader = csv.reader(open('final_final/data_whole_training.csv', 'r'))\n",
    "\n",
    "print datetime.datetime.now().isoformat()\n",
    "for n, row in enumerate(csv_reader):\n",
    "    if (n+1) % 100000 == 0: print n+1,\n",
    "\n",
    "    tmp_tkn = []\n",
    "    head = row[1]\n",
    "    body = row[2]\n",
    "    doc = ' '.join([head, body])\n",
    "    for tkn in doc.split():\n",
    "        if tkn in tmp_tkn:\n",
    "            continue\n",
    "        else:\n",
    "            tkn2df[tkn] += 1\n",
    "            tmp_tkn.append(tkn)\n",
    "\n",
    "print n, 'Done'\n",
    "print datetime.datetime.now().isoformat()"
   ]
  }
 ],
 "metadata": {
  "anaconda-cloud": {},
  "kernelspec": {
   "display_name": "Python [conda env:tf114_p27]",
   "language": "python",
   "name": "conda-env-tf114_p27-py"
  },
  "language_info": {
   "codemirror_mode": {
    "name": "ipython",
    "version": 2
   },
   "file_extension": ".py",
   "mimetype": "text/x-python",
   "name": "python",
   "nbconvert_exporter": "python",
   "pygments_lexer": "ipython2",
   "version": "2.7.17"
  }
 },
 "nbformat": 4,
 "nbformat_minor": 2
}
