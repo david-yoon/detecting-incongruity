{
 "cells": [
  {
   "cell_type": "markdown",
   "metadata": {},
   "source": [
    "## 1. read data"
   ]
  },
  {
   "cell_type": "code",
   "execution_count": 1,
   "metadata": {
    "collapsed": true
   },
   "outputs": [],
   "source": [
    "import numpy as np\n",
    "import pickle"
   ]
  },
  {
   "cell_type": "code",
   "execution_count": 2,
   "metadata": {
    "collapsed": false
   },
   "outputs": [],
   "source": [
    "testset_title = np.load('../data/aaai-19/whole/test/test_title.npy')\n",
    "testset_body = np.load('../data/aaai-19/whole/test/test_body.npy')"
   ]
  },
  {
   "cell_type": "code",
   "execution_count": null,
   "metadata": {
    "collapsed": false
   },
   "outputs": [],
   "source": []
  },
  {
   "cell_type": "markdown",
   "metadata": {},
   "source": [
    "## 2. load dictionary"
   ]
  },
  {
   "cell_type": "code",
   "execution_count": 3,
   "metadata": {
    "collapsed": false
   },
   "outputs": [],
   "source": [
    "with open('../data/aaai-19/whole/dic_mincutN.pkl') as f:\n",
    "    dic = pickle.load(f)\n",
    "delimiter = ' ' +  str(dic['<EOP>']) + ' '"
   ]
  },
  {
   "cell_type": "code",
   "execution_count": null,
   "metadata": {
    "collapsed": false
   },
   "outputs": [],
   "source": []
  },
  {
   "cell_type": "markdown",
   "metadata": {},
   "source": [
    "## 3. convert index to text"
   ]
  },
  {
   "cell_type": "code",
   "execution_count": 4,
   "metadata": {
    "collapsed": false
   },
   "outputs": [],
   "source": [
    "from Vocab import *\n",
    "voca = Vocab(dic)"
   ]
  },
  {
   "cell_type": "code",
   "execution_count": 5,
   "metadata": {
    "collapsed": false
   },
   "outputs": [
    {
     "name": "stdout",
     "output_type": "stream",
     "text": [
      "현대차 , 상반기 영업 익 3 조 1042 억 … 7 . 0 % 감소                                  \n"
     ]
    }
   ],
   "source": [
    "print voca.index2sent(testset_title[0])"
   ]
  },
  {
   "cell_type": "code",
   "execution_count": 6,
   "metadata": {
    "collapsed": false
   },
   "outputs": [
    {
     "name": "stdout",
     "output_type": "stream",
     "text": [
      "현대 자동차 의 올 상반기 영업 이익 이 신흥시장 수요 부진 의 여파 로 전년 동기 대비 7 . 0 % 줄었 다 . <EOS> 다만 2 분기 실적 에서는 전년 동기 대비 3 ~ 4 % 감소할 것 이라는 시장 의 예상 을 깨고 소폭 증가했 다 . <EOS> 현대차 는 26 일 서울 양재동 본사 에서 상반기 경영 실적 컨퍼런스 콜 을 갖고 , 올해 상반기 판매 239 만 3241 대 , 매출 액 47 조 273 억원 ( 자동차 36 조 6596 억원 , 금융 및 기타 10 조 3677 억원 ), 영업 이익 3 조 1042 억원 , 경상 이익 4 조 5450 억원 , 당기 순이익 3 조 5321 억원 ( 비지 배지 분 포함 ) 을 기록 했 다고 밝혔 다 . <EOS> 상반기 판매 실적 은 전년 동기 대비 0 . 9 % 감소했 다 . <EOS> 국내 시장 에서 전년 동기 대비 4 . 4 % 증가한 35 만 6 대 를 판매 했 으나 해외 시장 에서 전년 동기 대비 1 . 8 % 감소한 204 만 3235 대 에 그치 며 전체 적 으로 감소 세 를 보였 다 . <EOS> 매출 액 은 판매 감소 에도 불구 , SUV 및 제네시스 브랜드 판매 확대 에 힘 입어 믹스 가 좋아지 고 금융 부문 매출 이 증가하면 서 전년 동기 대비 7 . 5 % 늘었 다 . <EOS> 매출원가 율 은 국내 공장 수출 감소 에 따른 공장 가동 률 하락 및 신흥 국 환율 약세 영향 등 으로 전년 동기 대비 0 . 8 % 포인트 상승 한 80 . 3 % 를 기록 했 다 . <EOS> 영업 부문 비용 은 스포츠 마케팅 및 제네시스 브랜드 출시 등 으로 마케팅 관련 활동 이 증가하고 , 미래 경쟁력 확보 를 위한 선행 기술 투자 를 확대하면 서 전년 동기 대비 9 . 3 % 증가한 6 조 1583 억원 을 나타냈 다 . <EOS> 그 결과 2016 년 상반기 누 계 영업 이익 은 전년 동기 대비 7 . 0 % 감소한 3 조 1042 억원 을 기록 했 으며 , 영업 이익 률 또한 6 . 6 % 를 나타내며 전년 동기 대비 1 . 0 % 포인트 하락 했 다 . <EOS> 경상 이익 및 순이익 도 전년 동기 대비 각각 3 . 1 %, 6 . 4 % 감소한 4 조 5450 억원 및 3 조 5321 억 원 을 기록 했 다 . <EOS> 2 분기 실적 은 판매 128 만 5860 대 , 매출 24 조 6767 억원 , 영업 이익 은 전년 동기 대비 0 . 6 % 증가한 1 조 7618 억원 을 기록 했 다 . <EOS> <EOP> 호안 노리 에가 씨 는 시간 에 쫓겨 종종 핫도그 를 파는 가판 대 에서 아침 을 해결한 다 . <EOS> 그 는 예전 에 항상 다량 의 현금 뭉치 를 들 고 다녔 다 . <EOS> 그러나 최근 들어 카드 결제 기 가 설치된 핫도그 가판 대가 많아져 현금 을 들 고 다닐 필요 가 없어졌 다 . <EOS> <EOP> 노리 에가 는 \" 약 4 개월 전 부터 몇몇 핫도그 가판 대가 카드 결제 기를 설치한 것 을 봤 다 \" 며 \" 모든 물건 가격 이 올라 물건 을 사려 면 많은 현금 을 소지 해야 하는 데 카드 결제 기 덕분 에 그럴 필요 가 없어져 서 아주 편하고 더 안전해 졌 다 \" 고 전했 다 . <EOS> <EOP> 현대차 관계자 는 \" 상반기 전체 적 인 실적 은 신흥시장 수요 부진 등 의 부담 으로 전년 동기 대비 다소 둔화 됐 다 \" 며 \" 다만 올해 1 분기 대비해서 2 분기 에는 개선된 모습 을 보였 다 . <EOS> 하반기 에도 점진 적 인 실적 개선 세 가 유지될 수 있도 록 최선 을 다하겠 다 \" 고 덧붙였 다 . <EOS> 현대차 는 전세계 적 으로 저 성장 기조 가 고착 화 되 며 글로벌 경제성장률 전망 치가 하향 조정 되는 가운데 브렉 시트 이후 불확실 성 이 더욱 확대됨 에 따라 하반기 에도 어려운 경영 환경 이 이어질 것 으로 내다봤 다 . <EOS> 이같이 어려운 상황 을 극복 하기 위해 현대차 는 고객 의 요구 에 부합 하는 제품 을 적 시 에 공급 할 수 있도 록 시스템 을 재 점검 하는 한편 글로벌 자동차 시장 의 변화 에 보다 탄력 적 으로 대응해 나갈 방침 이다 . <EOS> <EOP> 이를 위해 현대차 는 우선 전세계 적 으로 수요 가 증가하고 있는 SUV 공급 을 확대하고 , 소형 SUV 판매 시장 을 넓혀 간다 는 전략 이다 . <EOS> 또한 제네시스 브랜드 의 글로벌 시장 출시 를 본격 화해 새로운 성장동력 을 착실히 구축 해 나가는 한편 , 각종 친환 경차 를 주요 시장 에 순차 적 으로 출시 함 으로써 글로벌 친환 경차 시장 에서의 입지 도 강화해 나갈 계획 이다 . <EOS> 현대차 관계자 는 \" 최근 시장조사 업체 인 제이 디 파워 가 발표한 신차 품질 조사 에서 3 년 연속 최 상위 권 을 달성 했 을 뿐 만 아니 라 다양한 신차 들 이 세계 유수 의 디자인상 을 수상 하면 서 글로벌 최고 수준 의 품질 및 디자인 경쟁력 을 다시 한번 입증 했 다 \" 며 \" 앞 으로도 경쟁력 강화 에 더욱 박차 를 가하는 한편 , 브랜드 가치 를 향상 시켜 판매 역량 을 지속 적 으로 제 고 할 것 \" 이라고 말했 다 . <EOS> <EOP>                                                                                                                                                                                                                                                                                                                          \n"
     ]
    }
   ],
   "source": [
    "print voca.index2sent(testset_body[0])"
   ]
  },
  {
   "cell_type": "code",
   "execution_count": null,
   "metadata": {
    "collapsed": true
   },
   "outputs": [],
   "source": []
  },
  {
   "cell_type": "code",
   "execution_count": null,
   "metadata": {
    "collapsed": true
   },
   "outputs": [],
   "source": []
  },
  {
   "cell_type": "code",
   "execution_count": null,
   "metadata": {
    "collapsed": true
   },
   "outputs": [],
   "source": []
  }
 ],
 "metadata": {
  "anaconda-cloud": {},
  "kernelspec": {
   "display_name": "Python [conda env:tf114_p27]",
   "language": "python",
   "name": "conda-env-tf114_p27-py"
  },
  "language_info": {
   "codemirror_mode": {
    "name": "ipython",
    "version": 2
   },
   "file_extension": ".py",
   "mimetype": "text/x-python",
   "name": "python",
   "nbconvert_exporter": "python",
   "pygments_lexer": "ipython2",
   "version": "2.7.16"
  }
 },
 "nbformat": 4,
 "nbformat_minor": 2
}
